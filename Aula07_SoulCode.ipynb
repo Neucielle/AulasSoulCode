{
  "nbformat": 4,
  "nbformat_minor": 0,
  "metadata": {
    "colab": {
      "provenance": [],
      "authorship_tag": "ABX9TyOi2dP0+MB7pXbIEXkmoVKo",
      "include_colab_link": true
    },
    "kernelspec": {
      "name": "python3",
      "display_name": "Python 3"
    },
    "language_info": {
      "name": "python"
    }
  },
  "cells": [
    {
      "cell_type": "markdown",
      "metadata": {
        "id": "view-in-github",
        "colab_type": "text"
      },
      "source": [
        "<a href=\"https://colab.research.google.com/github/Neucielle/AulasSoulCode/blob/main/Aula07_SoulCode.ipynb\" target=\"_parent\"><img src=\"https://colab.research.google.com/assets/colab-badge.svg\" alt=\"Open In Colab\"/></a>"
      ]
    },
    {
      "cell_type": "markdown",
      "source": [
        "# **Operadores de Associação**"
      ],
      "metadata": {
        "id": "QbuOnVte9vXG"
      }
    },
    {
      "cell_type": "markdown",
      "source": [
        "## **IN e NOT IN**\n",
        "\n",
        "* (in) Retorna verdadeiro se um caracter ou sequencia de caracteres for encontrado dentro de uma string."
      ],
      "metadata": {
        "id": "F7OLLTC592JM"
      }
    },
    {
      "cell_type": "code",
      "execution_count": null,
      "metadata": {
        "colab": {
          "base_uri": "https://localhost:8080/"
        },
        "id": "ok9IKTdR8cTu",
        "outputId": "c91cdc82-da43-482c-9239-5c12acd0887f"
      },
      "outputs": [
        {
          "output_type": "execute_result",
          "data": {
            "text/plain": [
              "True"
            ]
          },
          "metadata": {},
          "execution_count": 1
        }
      ],
      "source": [
        "# Exemplo 1\n",
        "nome = 'Franciane'\n",
        "'ane' in nome"
      ]
    },
    {
      "cell_type": "code",
      "source": [
        "# Exemplo 2\n",
        "nome = 'Franciane'\n",
        "'Ane' in nome"
      ],
      "metadata": {
        "colab": {
          "base_uri": "https://localhost:8080/"
        },
        "id": "XYeSRYxp-t6D",
        "outputId": "0c851dc9-cff8-4c77-d4f2-4ad286203066"
      },
      "execution_count": null,
      "outputs": [
        {
          "output_type": "execute_result",
          "data": {
            "text/plain": [
              "False"
            ]
          },
          "metadata": {},
          "execution_count": 2
        }
      ]
    },
    {
      "cell_type": "code",
      "source": [
        "# Exemplo 3\n",
        "nome1 = 'Neucielle'\n",
        "'neu' in nome1.lower()"
      ],
      "metadata": {
        "colab": {
          "base_uri": "https://localhost:8080/"
        },
        "id": "7d6TMpAY-1Cy",
        "outputId": "87202d8c-5d2d-4de8-b745-4400fc275e34"
      },
      "execution_count": null,
      "outputs": [
        {
          "output_type": "execute_result",
          "data": {
            "text/plain": [
              "True"
            ]
          },
          "metadata": {},
          "execution_count": 7
        }
      ]
    },
    {
      "cell_type": "markdown",
      "source": [
        "* (not in) Retorna verdadeiro se um caracter ou sequencia de caracteres **NÃO** for encontrado dentro de uma string"
      ],
      "metadata": {
        "id": "AD58NDx7AHby"
      }
    },
    {
      "cell_type": "code",
      "source": [
        "nome = 'daniela'\n",
        "teste1 = 'Dani' not in nome\n",
        "print('Dani não está contido em daniela? ', teste1)"
      ],
      "metadata": {
        "colab": {
          "base_uri": "https://localhost:8080/"
        },
        "id": "bbZGGIOhBZg_",
        "outputId": "aecb9708-db7c-416d-92cf-4728d78b02c8"
      },
      "execution_count": null,
      "outputs": [
        {
          "output_type": "stream",
          "name": "stdout",
          "text": [
            "Dani não está contido em daniela?  True\n"
          ]
        }
      ]
    },
    {
      "cell_type": "code",
      "source": [
        "# Exemplo 5\n",
        "nome = input('Digite seu nome: ')\n",
        "'mar' in nome.lower()"
      ],
      "metadata": {
        "colab": {
          "base_uri": "https://localhost:8080/"
        },
        "id": "iy1xefAzB5P3",
        "outputId": "aeca0bed-3bf6-461a-c3cd-411dba858f31"
      },
      "execution_count": null,
      "outputs": [
        {
          "name": "stdout",
          "output_type": "stream",
          "text": [
            "Digite seu nome: Mariana\n"
          ]
        },
        {
          "output_type": "execute_result",
          "data": {
            "text/plain": [
              "True"
            ]
          },
          "metadata": {},
          "execution_count": 10
        }
      ]
    },
    {
      "cell_type": "markdown",
      "source": [
        "## **Operador identidade**"
      ],
      "metadata": {
        "id": "qFDluxsWCy37"
      }
    },
    {
      "cell_type": "markdown",
      "source": [
        "* (is) compara se um objeto é igual ao outro em relação ao valor e tipo."
      ],
      "metadata": {
        "id": "M5w2klKTIcoH"
      }
    },
    {
      "cell_type": "code",
      "source": [
        "# Entrada de dados\n",
        "h = 3\n",
        "p = 3\n",
        "\n",
        "# Primeira comparação\n",
        "teste2 = p == h\n",
        "\n",
        "# Outra forma de impressão na tela\n",
        "teste2"
      ],
      "metadata": {
        "colab": {
          "base_uri": "https://localhost:8080/"
        },
        "id": "6L4uRAOeJcCg",
        "outputId": "64657589-61d7-4483-9c98-0198e10cce22"
      },
      "execution_count": null,
      "outputs": [
        {
          "output_type": "execute_result",
          "data": {
            "text/plain": [
              "True"
            ]
          },
          "metadata": {},
          "execution_count": 11
        }
      ]
    },
    {
      "cell_type": "code",
      "source": [
        "# Entrada de dados\n",
        "h = 3\n",
        "p = 3\n",
        "\n",
        "# Segunda comparação\n",
        "teste3 = p is h # Lê \"is\" como \"é\"\n",
        "\n",
        "# Outra forma de impressão na tela\n",
        "teste3"
      ],
      "metadata": {
        "colab": {
          "base_uri": "https://localhost:8080/"
        },
        "id": "Eo1jgB2BKEul",
        "outputId": "886b2939-e2fa-40bb-abab-4fe3beecfb91"
      },
      "execution_count": null,
      "outputs": [
        {
          "output_type": "execute_result",
          "data": {
            "text/plain": [
              "True"
            ]
          },
          "metadata": {},
          "execution_count": 12
        }
      ]
    },
    {
      "cell_type": "code",
      "source": [
        "# Entrada de dados\n",
        "h = 3\n",
        "p = 3.0\n",
        "\n",
        "# Segunda comparação\n",
        "teste4 = p == h\n",
        "\n",
        "# Outra forma de impressão na tela\n",
        "teste4"
      ],
      "metadata": {
        "colab": {
          "base_uri": "https://localhost:8080/"
        },
        "id": "-CUnCJC4KiKV",
        "outputId": "ddf640e3-1013-4922-f0c6-ecc3dcb8df80"
      },
      "execution_count": null,
      "outputs": [
        {
          "output_type": "execute_result",
          "data": {
            "text/plain": [
              "True"
            ]
          },
          "metadata": {},
          "execution_count": 13
        }
      ]
    },
    {
      "cell_type": "code",
      "source": [
        "# Entrada de dados\n",
        "h = 3\n",
        "p = 3.0\n",
        "\n",
        "# Segunda comparação\n",
        "teste5 = p is h\n",
        "\n",
        "# Outra forma de impressão na tela\n",
        "print(teste5)\n",
        "\n",
        "print(type(h))\n",
        "print(type(p))"
      ],
      "metadata": {
        "colab": {
          "base_uri": "https://localhost:8080/"
        },
        "id": "9TP721syLThn",
        "outputId": "952464a6-809b-4699-a50b-08c77fe2e493"
      },
      "execution_count": null,
      "outputs": [
        {
          "output_type": "stream",
          "name": "stdout",
          "text": [
            "False\n",
            "<class 'int'>\n",
            "<class 'float'>\n"
          ]
        }
      ]
    },
    {
      "cell_type": "code",
      "source": [
        "# Entrada de dados\n",
        "h = 'MARIA'\n",
        "p = 'maria'\n",
        "\n",
        "# Segunda comparação\n",
        "teste6 = p is h # lembrando que o python é case sensitive\n",
        "\n",
        "# Outra forma de impressão na tela\n",
        "print(teste6)\n",
        "\n",
        "print(type(h))\n",
        "print(type(p))"
      ],
      "metadata": {
        "colab": {
          "base_uri": "https://localhost:8080/"
        },
        "id": "5zzzxfXiMvcK",
        "outputId": "9ba3578a-4d4b-4da1-bc69-d7be57e4fafd"
      },
      "execution_count": null,
      "outputs": [
        {
          "output_type": "stream",
          "name": "stdout",
          "text": [
            "False\n",
            "<class 'str'>\n",
            "<class 'str'>\n"
          ]
        }
      ]
    },
    {
      "cell_type": "code",
      "source": [
        "# Entrada de dados\n",
        "h = 3.0\n",
        "p = 3.0\n",
        "\n",
        "# Segunda comparação\n",
        "teste7 = p is h # lembrando que o python é case sensitive\n",
        "\n",
        "# Outra forma de impressão na tela\n",
        "print(teste7)\n",
        "\n",
        "print(type(h))\n",
        "print(type(p))"
      ],
      "metadata": {
        "colab": {
          "base_uri": "https://localhost:8080/"
        },
        "id": "zDykXgTrMyYT",
        "outputId": "cddeb0b7-7a9e-40f0-80a7-b0ab24f7ff94"
      },
      "execution_count": null,
      "outputs": [
        {
          "output_type": "stream",
          "name": "stdout",
          "text": [
            "False\n",
            "<class 'float'>\n",
            "<class 'float'>\n"
          ]
        }
      ]
    },
    {
      "cell_type": "markdown",
      "source": [
        "* (is not) compara se um objeto é diferente do outro em relação ao valor e tipo."
      ],
      "metadata": {
        "id": "ljY0hTSRPCNZ"
      }
    },
    {
      "cell_type": "code",
      "source": [
        "# Entrada de dados\n",
        "h = 3\n",
        "p = 4\n",
        "\n",
        "# Segunda comparação\n",
        "teste8 = h != p\n",
        "\n",
        "# Outra forma de impressão na tela\n",
        "teste8"
      ],
      "metadata": {
        "colab": {
          "base_uri": "https://localhost:8080/"
        },
        "id": "UaQFhx2xPEgn",
        "outputId": "d3077eeb-9d79-45a6-fe3e-ec0550d3334e"
      },
      "execution_count": null,
      "outputs": [
        {
          "output_type": "execute_result",
          "data": {
            "text/plain": [
              "True"
            ]
          },
          "metadata": {},
          "execution_count": 17
        }
      ]
    },
    {
      "cell_type": "code",
      "source": [
        "# Entrada de dados\n",
        "h = 3\n",
        "p = 4\n",
        "\n",
        "# Segunda comparação\n",
        "teste9 = h is not p # is not lê-se \"não é\"\n",
        "\n",
        "# Outra forma de impressão na tela\n",
        "teste9"
      ],
      "metadata": {
        "colab": {
          "base_uri": "https://localhost:8080/"
        },
        "id": "irmVgG2lP2cu",
        "outputId": "6c7ad4f1-4e0e-4419-ecdc-6b67d478633c"
      },
      "execution_count": null,
      "outputs": [
        {
          "output_type": "execute_result",
          "data": {
            "text/plain": [
              "True"
            ]
          },
          "metadata": {},
          "execution_count": 18
        }
      ]
    },
    {
      "cell_type": "markdown",
      "source": [
        "## **Estruturas de Dados**"
      ],
      "metadata": {
        "id": "tltQ142JQBy2"
      }
    },
    {
      "cell_type": "code",
      "source": [
        "# Uma lista é um objeto que pode ser vazio ou ter varios elementos.\n",
        "# Podemos localizar elementos dentro da lista através de índices,\n",
        "# como fizemos nas strings inclusive pode mos fazer fatiamentos se necessário.\n",
        "\n",
        "\n",
        "lista = ['dado1', 'dado2', 'dado3', 'dado4', 'dado5']\n",
        "\n",
        "# Índices   0        1        2       3        4\n",
        "# Reverso  -5       -4       -3      -2       -1\n",
        "\n",
        "# Qual é o quinto da minha lista de forma direta e inversa?\n",
        "print(lista[4])\n",
        "print(lista[-1])\n"
      ],
      "metadata": {
        "colab": {
          "base_uri": "https://localhost:8080/"
        },
        "id": "64FIeTORZVWt",
        "outputId": "831f46cd-0bc5-4e95-af50-73869a1e4ddc"
      },
      "execution_count": null,
      "outputs": [
        {
          "output_type": "stream",
          "name": "stdout",
          "text": [
            "dado5\n",
            "dado5\n"
          ]
        }
      ]
    },
    {
      "cell_type": "code",
      "source": [
        "# Vamos criar uma lista real\n",
        "lista = ['banana', 2.0, True, -2, 34, 'Lola']\n",
        "lista"
      ],
      "metadata": {
        "colab": {
          "base_uri": "https://localhost:8080/"
        },
        "id": "hRZ0VJ_wbUiR",
        "outputId": "a6900d56-17b7-48af-aaa3-7b2a752679b3"
      },
      "execution_count": null,
      "outputs": [
        {
          "output_type": "execute_result",
          "data": {
            "text/plain": [
              "['banana', 2.0, True, -2, 34, 'Lola']"
            ]
          },
          "metadata": {},
          "execution_count": 21
        }
      ]
    },
    {
      "cell_type": "code",
      "source": [
        "# len() = Retorna o tamanho da lista\n",
        "len(lista)"
      ],
      "metadata": {
        "colab": {
          "base_uri": "https://localhost:8080/"
        },
        "id": "_OqtO8vvcCQn",
        "outputId": "50bfecc4-a1dc-45db-ced0-52a372ccd82e"
      },
      "execution_count": null,
      "outputs": [
        {
          "output_type": "execute_result",
          "data": {
            "text/plain": [
              "6"
            ]
          },
          "metadata": {},
          "execution_count": 22
        }
      ]
    },
    {
      "cell_type": "code",
      "source": [
        "print(type(lista))\n",
        "print(type(lista[0]))"
      ],
      "metadata": {
        "colab": {
          "base_uri": "https://localhost:8080/"
        },
        "id": "L_DvNtcVcWaD",
        "outputId": "afa81c5e-4dd5-4c1f-9b6e-65444b30c0da"
      },
      "execution_count": null,
      "outputs": [
        {
          "output_type": "stream",
          "name": "stdout",
          "text": [
            "<class 'list'>\n",
            "<class 'str'>\n"
          ]
        }
      ]
    },
    {
      "cell_type": "code",
      "source": [
        "# Vamos criar uma lista com input\n",
        "alunos = input('Informe os nomes separados por espaços que você deseja cadastrar: ')\n",
        "nomes = alunos.split()\n",
        "print(nomes)"
      ],
      "metadata": {
        "colab": {
          "base_uri": "https://localhost:8080/"
        },
        "id": "2AtLCviSclG3",
        "outputId": "53fc3fb0-1b19-44fb-c700-07e69d381556"
      },
      "execution_count": null,
      "outputs": [
        {
          "output_type": "stream",
          "name": "stdout",
          "text": [
            "Informe os nomes separados por espaços que você deseja cadastrar: Bruno Arthur Carina Felipe Juliana Kleisson Luane Lucas Marcos Vanessa Vinicius\n",
            "['Bruno', 'Arthur', 'Carina', 'Felipe', 'Juliana', 'Kleisson', 'Luane', 'Lucas', 'Marcos', 'Vanessa', 'Vinicius']\n"
          ]
        }
      ]
    },
    {
      "cell_type": "code",
      "source": [
        "# len(): retorna o tamanho da lista\n",
        "len(nomes)"
      ],
      "metadata": {
        "colab": {
          "base_uri": "https://localhost:8080/"
        },
        "id": "lqiChYHojcqD",
        "outputId": "51a26df3-182f-4272-c4d6-2d1038cd8497"
      },
      "execution_count": null,
      "outputs": [
        {
          "output_type": "execute_result",
          "data": {
            "text/plain": [
              "11"
            ]
          },
          "metadata": {},
          "execution_count": 33
        }
      ]
    },
    {
      "cell_type": "code",
      "source": [
        "# O 4° nome dessa lista.\n",
        "# Os nomes do 2º ao 5° nome dessa lista.\n",
        "# O 8° nome da lista\n",
        "# Os nomes do 7º ao 10° nome dessa lista.\n",
        "\n",
        "print(nomes[3])\n",
        "print(nomes[1:5])\n",
        "print(nomes[7])\n",
        "print(nomes [6:10])"
      ],
      "metadata": {
        "colab": {
          "base_uri": "https://localhost:8080/"
        },
        "id": "oB585ceykCWl",
        "outputId": "d384b00c-4320-44d9-e446-158e32c4caa7"
      },
      "execution_count": null,
      "outputs": [
        {
          "output_type": "stream",
          "name": "stdout",
          "text": [
            "Felipe\n",
            "['Arthur', 'Carina', 'Felipe', 'Juliana']\n",
            "Lucas\n",
            "['Luane', 'Lucas', 'Marcos', 'Vanessa']\n"
          ]
        }
      ]
    },
    {
      "cell_type": "code",
      "source": [
        "# Inserindo valores numa lista pelo método append\n",
        "# por padrão o método append vai inserir o elemento sempre na última posição\n",
        "# mantendo os demais que eventualmente já existam\n",
        "\n",
        "descarte = []\n",
        "print(descarte)\n",
        "\n",
        "descarte.append('bateria')\n",
        "print(descarte)\n",
        "\n",
        "descarte.append('mouse')\n",
        "print(descarte)\n",
        "\n",
        "descarte.append('cabo para Iphone')\n",
        "print(descarte)\n",
        "\n",
        "descarte.append('teclado')\n",
        "print(descarte)"
      ],
      "metadata": {
        "colab": {
          "base_uri": "https://localhost:8080/"
        },
        "id": "Z0NYlAmLlcvj",
        "outputId": "b08cb5b4-8581-4520-9939-3f24ae35f038"
      },
      "execution_count": null,
      "outputs": [
        {
          "output_type": "stream",
          "name": "stdout",
          "text": [
            "[]\n",
            "['bateria']\n",
            "['bateria', 'mouse']\n",
            "['bateria', 'mouse', 'cabo para Iphone']\n",
            "['bateria', 'mouse', 'cabo para Iphone', 'teclado']\n"
          ]
        }
      ]
    },
    {
      "cell_type": "code",
      "source": [
        "# Método insert() insere um valor em qualquer lugar da lista\n",
        "descarte.insert(3, 'iphone')\n",
        "print(descarte)"
      ],
      "metadata": {
        "colab": {
          "base_uri": "https://localhost:8080/"
        },
        "id": "7RKrdtZPnGQB",
        "outputId": "4a7a20a2-adac-4df8-d8a0-6bad8e9916ae"
      },
      "execution_count": null,
      "outputs": [
        {
          "output_type": "stream",
          "name": "stdout",
          "text": [
            "['bateria', 'mouse', 'cabo para Iphone', 'iphone', 'teclado']\n"
          ]
        }
      ]
    },
    {
      "cell_type": "code",
      "source": [
        "# Método remove() remove o elemento que está dentro do parênteses\n",
        "descarte.remove('iphone')\n",
        "print(descarte)"
      ],
      "metadata": {
        "colab": {
          "base_uri": "https://localhost:8080/"
        },
        "id": "4h7HAROonhko",
        "outputId": "b3a28e4d-0172-476e-c384-572deadd7d49"
      },
      "execution_count": null,
      "outputs": [
        {
          "output_type": "stream",
          "name": "stdout",
          "text": [
            "['bateria', 'mouse', 'cabo para Iphone', 'teclado']\n"
          ]
        }
      ]
    },
    {
      "cell_type": "code",
      "source": [
        "# Método pop() remove o elemento pelo índice\n",
        "descarte.pop(0)\n",
        "print(descarte)"
      ],
      "metadata": {
        "colab": {
          "base_uri": "https://localhost:8080/"
        },
        "id": "dgrpXrK9orbQ",
        "outputId": "1b3063f6-d02b-4745-f464-d531b3ddad76"
      },
      "execution_count": null,
      "outputs": [
        {
          "output_type": "stream",
          "name": "stdout",
          "text": [
            "['mouse', 'cabo para Iphone', 'teclado']\n"
          ]
        }
      ]
    },
    {
      "cell_type": "code",
      "source": [
        "# Método reverse() inverte a ordem da lista\n",
        "descarte.reverse()\n",
        "print(descarte)"
      ],
      "metadata": {
        "colab": {
          "base_uri": "https://localhost:8080/"
        },
        "id": "BesZJi6ZouzY",
        "outputId": "6bbb7871-0837-40bb-9a1c-ae0ab4326fc8"
      },
      "execution_count": null,
      "outputs": [
        {
          "output_type": "stream",
          "name": "stdout",
          "text": [
            "['teclado', 'cabo para Iphone', 'mouse']\n"
          ]
        }
      ]
    },
    {
      "cell_type": "code",
      "source": [
        "# Método copy() retorna uma cópia da lista\n",
        "descarte_bkp = descarte.copy()\n",
        "descarte_bkp"
      ],
      "metadata": {
        "colab": {
          "base_uri": "https://localhost:8080/"
        },
        "id": "MabpGQhZpP5k",
        "outputId": "a7168185-1e85-4ddd-8790-19a69ddf87e0"
      },
      "execution_count": null,
      "outputs": [
        {
          "output_type": "execute_result",
          "data": {
            "text/plain": [
              "['teclado', 'cabo para Iphone', 'mouse']"
            ]
          },
          "metadata": {},
          "execution_count": 56
        }
      ]
    },
    {
      "cell_type": "code",
      "source": [
        "# Concatenação de listas\n",
        "\n",
        "lista1 = [0, 1, 2, 3, 4]\n",
        "lista2 = [10, 11, 12, 13, 14]\n",
        "\n",
        "lista_oficial = lista1 + lista2\n",
        "lista_oficial"
      ],
      "metadata": {
        "colab": {
          "base_uri": "https://localhost:8080/"
        },
        "id": "i2FoNnZuqcJm",
        "outputId": "d57a29b6-45bc-4995-d901-70f8586a5ab3"
      },
      "execution_count": null,
      "outputs": [
        {
          "output_type": "execute_result",
          "data": {
            "text/plain": [
              "[0, 1, 2, 3, 4, 10, 11, 12, 13, 14]"
            ]
          },
          "metadata": {},
          "execution_count": 57
        }
      ]
    }
  ]
}