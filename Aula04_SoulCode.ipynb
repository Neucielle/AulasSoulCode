{
  "nbformat": 4,
  "nbformat_minor": 0,
  "metadata": {
    "colab": {
      "provenance": [],
      "authorship_tag": "ABX9TyNTE/6CK0z6m/UWqCnsEiBI",
      "include_colab_link": true
    },
    "kernelspec": {
      "name": "python3",
      "display_name": "Python 3"
    },
    "language_info": {
      "name": "python"
    }
  },
  "cells": [
    {
      "cell_type": "markdown",
      "metadata": {
        "id": "view-in-github",
        "colab_type": "text"
      },
      "source": [
        "<a href=\"https://colab.research.google.com/github/Neucielle/AulasSoulCode/blob/main/Aula04_SoulCode.ipynb\" target=\"_parent\"><img src=\"https://colab.research.google.com/assets/colab-badge.svg\" alt=\"Open In Colab\"/></a>"
      ]
    },
    {
      "cell_type": "markdown",
      "source": [
        "Escola: SoulCode Academy\n",
        "\n",
        "Curso: Análise de Dados e Dashboards\n",
        "\n",
        "Período: Noturno\n",
        "\n",
        "Assunto: Python\n",
        "\n",
        "Professora: Franciane Rodrigues\n",
        "\n",
        "Aluna: Neucielle Quadros"
      ],
      "metadata": {
        "id": "4y4movFtBdy3"
      }
    },
    {
      "cell_type": "markdown",
      "source": [
        "## **Coletando informações do usúario**"
      ],
      "metadata": {
        "id": "uqFr81pDBng-"
      }
    },
    {
      "cell_type": "code",
      "execution_count": null,
      "metadata": {
        "colab": {
          "base_uri": "https://localhost:8080/"
        },
        "id": "Zrwp8hQyBdM6",
        "outputId": "758ac174-e9ca-455d-cf13-6cddc51e325d"
      },
      "outputs": [
        {
          "output_type": "stream",
          "name": "stdout",
          "text": [
            "Digite seu nome:Nancy\n",
            "O nome digitado é: Nancy\n"
          ]
        }
      ],
      "source": [
        "# Coletando informações do usúario com input.\n",
        "\n",
        "nome = input('Digite seu nome:')\n",
        "print(f'O nome digitado é: {nome}')"
      ]
    },
    {
      "cell_type": "code",
      "source": [
        "# Coletando informações do numericas com input.\n",
        "\n",
        "idade = int(input('Qual a sua idade? '))\n",
        "print(f'A idade digitada é: {idade}')"
      ],
      "metadata": {
        "colab": {
          "base_uri": "https://localhost:8080/"
        },
        "id": "nxgFqt51C5om",
        "outputId": "56d08979-51b7-4333-a53f-0f65cd19ca9c"
      },
      "execution_count": null,
      "outputs": [
        {
          "output_type": "stream",
          "name": "stdout",
          "text": [
            "Qual a sua idade? 33\n",
            "A idade digitada é: 33\n"
          ]
        }
      ]
    },
    {
      "cell_type": "code",
      "source": [
        "# Coletando informações numéricas do usuário com input\n",
        "peso = int(input('Informe seu peso: '))\n",
        "print('A peso digitado é: ', peso, 'kg')"
      ],
      "metadata": {
        "colab": {
          "base_uri": "https://localhost:8080/"
        },
        "id": "3UKorhdBEubt",
        "outputId": "127425ee-ebf7-499b-aec5-0e1eaa0801f5"
      },
      "execution_count": null,
      "outputs": [
        {
          "output_type": "stream",
          "name": "stdout",
          "text": [
            "Informe seu peso: 65\n",
            "A peso digitado é:  65 kg\n"
          ]
        }
      ]
    },
    {
      "cell_type": "code",
      "source": [
        "# Coletando informações numéricas do usuário com input\n",
        "altura = float(input('Informe sua altura: '))\n",
        "print(f'Sua altura é: {altura}m')"
      ],
      "metadata": {
        "colab": {
          "base_uri": "https://localhost:8080/"
        },
        "id": "-FEsBWWUGBzB",
        "outputId": "3e5de2fb-fa27-4149-f7b3-b032c9b82c8a"
      },
      "execution_count": null,
      "outputs": [
        {
          "output_type": "stream",
          "name": "stdout",
          "text": [
            "Informe sua altura: 1.66\n",
            "Sua altura é: 1.66m\n"
          ]
        }
      ]
    },
    {
      "cell_type": "code",
      "source": [
        "# Calcule o IMC e apresente em tela\n",
        "nome = input('Digite seu nome:')\n",
        "peso = int(input('Informe seu peso: '))\n",
        "altura = float(input('Informe sua altura: '))\n",
        "\n",
        "# Calculando o IMC\n",
        "imc = peso/altura ** 2\n",
        "\n",
        "print(f'{nome} seu IMC é: {imc:.1f}')"
      ],
      "metadata": {
        "colab": {
          "base_uri": "https://localhost:8080/"
        },
        "id": "BrrDhQoOHGlE",
        "outputId": "ef528560-ef49-47a3-ba44-744c68be3fba"
      },
      "execution_count": null,
      "outputs": [
        {
          "output_type": "stream",
          "name": "stdout",
          "text": [
            "Digite seu nome:Nancy\n",
            "Informe seu peso: 70\n",
            "Informe sua altura: 1.66\n",
            "Nancy seu IMC é: 25.4\n"
          ]
        }
      ]
    },
    {
      "cell_type": "code",
      "source": [
        "# Outra forma de escrever o resultado\n",
        "print(nome , ', seu imc é:',  round(imc,2))\n",
        "print(nome + ', seu imc é:', imc)"
      ],
      "metadata": {
        "colab": {
          "base_uri": "https://localhost:8080/"
        },
        "id": "ME6LjjEdO3E1",
        "outputId": "2b4e2c05-14c9-49e3-f9c3-16073f13c9b2"
      },
      "execution_count": null,
      "outputs": [
        {
          "output_type": "stream",
          "name": "stdout",
          "text": [
            "Nancy , seu imc é: 25.4\n",
            "Nancy, seu imc é: 25.402816083611555\n"
          ]
        }
      ]
    },
    {
      "cell_type": "code",
      "source": [
        "# Outra forma de escrever o resultado\n",
        "print(nome , ', seu imc é:',  round(imc,2))\n",
        "print(nome + ', seu imc é:', imc)\n",
        "print(nome + ', seu imc é:' + str(imc)) # concatenação de strings"
      ],
      "metadata": {
        "colab": {
          "base_uri": "https://localhost:8080/"
        },
        "id": "kb8YZfwtPhAV",
        "outputId": "85a82f74-7e8a-441d-bfa2-60388f2c0702"
      },
      "execution_count": null,
      "outputs": [
        {
          "output_type": "stream",
          "name": "stdout",
          "text": [
            "Nancy , seu imc é: 25.4\n",
            "Nancy, seu imc é: 25.402816083611555\n",
            "Nancy, seu imc é:25.402816083611555\n"
          ]
        }
      ]
    },
    {
      "cell_type": "markdown",
      "source": [
        "## **String - Encontrando um caractere pelo índice**"
      ],
      "metadata": {
        "id": "6TPF3hRqSthO"
      }
    },
    {
      "cell_type": "code",
      "source": [
        "# Definindo uma string\n",
        "\n",
        "nome = 'Franciane'"
      ],
      "metadata": {
        "id": "PuLuBFPLS0DK"
      },
      "execution_count": null,
      "outputs": []
    },
    {
      "cell_type": "code",
      "source": [
        "# Exeplo: Impria na tela o primeiro caracter da string\n",
        "nome[0] # Sintaxe básica de localização\n",
        "print(f'O primeiro caracter da string é: {nome[0]}')"
      ],
      "metadata": {
        "colab": {
          "base_uri": "https://localhost:8080/"
        },
        "id": "zAWXOOcFUDSg",
        "outputId": "37929a39-6ee2-4d07-ed71-a6519f64d9ec"
      },
      "execution_count": null,
      "outputs": [
        {
          "output_type": "stream",
          "name": "stdout",
          "text": [
            "O primeiro caracter da string é: F\n"
          ]
        }
      ]
    },
    {
      "cell_type": "code",
      "source": [
        "# Imprima o ultimo caracter da string\n",
        "print(f'O ultimo caracter é: {nome[8]}')\n",
        "print(f'O ultimo caracter é: {nome[-1]}') # Recomendado\n"
      ],
      "metadata": {
        "colab": {
          "base_uri": "https://localhost:8080/"
        },
        "id": "yXCNUELJVXe6",
        "outputId": "8e029af8-ed23-4ac3-db03-50a0c1fa4c87"
      },
      "execution_count": null,
      "outputs": [
        {
          "output_type": "stream",
          "name": "stdout",
          "text": [
            "O ultimo caracter é: e\n",
            "O ultimo caracter é: e\n"
          ]
        }
      ]
    },
    {
      "cell_type": "code",
      "source": [
        "# Imprima o 3 caracter da string\n",
        "# Imprima o 5 caracter da string\n",
        "\n",
        "print(f'O ultimo caracter é: {nome[2]}')\n",
        "print(f'O ultimo caracter é: {nome[4]}')"
      ],
      "metadata": {
        "colab": {
          "base_uri": "https://localhost:8080/"
        },
        "id": "hDrJTJOyatRU",
        "outputId": "f74a711d-bff8-4c25-adc7-1450ed917182"
      },
      "execution_count": null,
      "outputs": [
        {
          "output_type": "stream",
          "name": "stdout",
          "text": [
            "O ultimo caracter é: a\n",
            "O ultimo caracter é: c\n"
          ]
        }
      ]
    },
    {
      "cell_type": "code",
      "source": [
        "# Atividade em 10 minutos: 20:50\n",
        "# Ex.1 Definindo uma string sendo esta o seu nome\n",
        "# Ex.2 Imprima na tela o primeiro caracter do seu nome (normal e reverso)\n",
        "# Ex.3 Imprima na tela o último caracter do seu nome (normal e reverso)\n",
        "# Ex.4 Imprima na tela o terceiro caracter do seu nome (normal e reverso)\n",
        "\n",
        "# 01.\n",
        "nome = 'Neucielle'\n",
        "\n",
        "# 02.\n",
        "print(f'O primeiro caracter é: {nome[0]}')\n",
        "print(f'O primeiro (reverso) caracter é: {nome[-1]}')\n",
        "\n",
        "# 03.\n",
        "print(f'O ultimo caracter é: {nome[8]}')\n",
        "print(f'O ultimo (reverso) caracter é: {nome[-9]}')\n",
        "\n",
        "# 04.\n",
        "print(f'O terceiro caracter é: {nome[2]}')\n",
        "print(f'O terceiro (reverso) caracter é: {nome[-7]}')"
      ],
      "metadata": {
        "colab": {
          "base_uri": "https://localhost:8080/"
        },
        "id": "oL5qk0HOcBAy",
        "outputId": "132ed934-91f0-4123-f8ec-9f1fbe49ae18"
      },
      "execution_count": null,
      "outputs": [
        {
          "output_type": "stream",
          "name": "stdout",
          "text": [
            "O primeiro caracter é: N\n",
            "O primeiro (reverso) caracter é: e\n",
            "O ultimo caracter é: e\n",
            "O ultimo (reverso) caracter é: N\n",
            "O terceiro caracter é: u\n",
            "O terceiro (reverso) caracter é: u\n"
          ]
        }
      ]
    },
    {
      "cell_type": "code",
      "source": [
        "# Vamos fazer um fatiamento da nossa string (slicing)\n",
        "nome = 'FRANCIANE'\n",
        "\n",
        "# F   R   A   N   C    I   A   N   E\n",
        "# 0   1   2   3   4    5   6   7   8                    # Pensamento computacional\n",
        "# 1°  2°  3°  4°  5°   6°  7°  8°  9°                   # Pensamento matematico"
      ],
      "metadata": {
        "id": "sQUZUceUhqAJ"
      },
      "execution_count": null,
      "outputs": []
    },
    {
      "cell_type": "code",
      "source": [
        "# Imprima na tela a sequencia do segundo ao quinto caracter'\n",
        "# RANC\n",
        "nome[1:5]\n"
      ],
      "metadata": {
        "colab": {
          "base_uri": "https://localhost:8080/",
          "height": 35
        },
        "id": "YOrn_2eYhvVh",
        "outputId": "1d4abc96-70f5-4217-d519-67328d46eff3"
      },
      "execution_count": null,
      "outputs": [
        {
          "output_type": "execute_result",
          "data": {
            "text/plain": [
              "'RANC'"
            ],
            "application/vnd.google.colaboratory.intrinsic+json": {
              "type": "string"
            }
          },
          "metadata": {},
          "execution_count": 36
        }
      ]
    },
    {
      "cell_type": "code",
      "source": [
        "# Imprima na tela a sequencia do primeiro até o quinto caracter\n",
        "nome[0:5]"
      ],
      "metadata": {
        "colab": {
          "base_uri": "https://localhost:8080/",
          "height": 35
        },
        "id": "Qftbol9XpTFQ",
        "outputId": "02c11ed6-d3c2-4774-9646-a71d564c6dfa"
      },
      "execution_count": null,
      "outputs": [
        {
          "output_type": "execute_result",
          "data": {
            "text/plain": [
              "'FRANC'"
            ],
            "application/vnd.google.colaboratory.intrinsic+json": {
              "type": "string"
            }
          },
          "metadata": {},
          "execution_count": 37
        }
      ]
    },
    {
      "cell_type": "code",
      "source": [
        "# Exemplo de Ana Carol\n",
        "nome = 'Ana Carol'"
      ],
      "metadata": {
        "id": "YMqGWUOjpwQP"
      },
      "execution_count": null,
      "outputs": []
    },
    {
      "cell_type": "code",
      "source": [
        "# Imprima na tela ate o 3 posição\n",
        "nome[0:4]              # Espaços contam como caracter"
      ],
      "metadata": {
        "colab": {
          "base_uri": "https://localhost:8080/",
          "height": 35
        },
        "id": "ldZYgY53qGI4",
        "outputId": "2c53fa75-aa37-4820-80d1-142390f79fae"
      },
      "execution_count": null,
      "outputs": [
        {
          "output_type": "execute_result",
          "data": {
            "text/plain": [
              "'Ana '"
            ],
            "application/vnd.google.colaboratory.intrinsic+json": {
              "type": "string"
            }
          },
          "metadata": {},
          "execution_count": 39
        }
      ]
    },
    {
      "cell_type": "markdown",
      "source": [
        "## **Métodos de String**"
      ],
      "metadata": {
        "id": "RvsZzbJVrEj6"
      }
    },
    {
      "cell_type": "code",
      "source": [
        "# Sinal de (+) para concatenar (juntar) Strings\n",
        "\n",
        "nome = 'Neucielle'\n",
        "sobrenome = 'Quadros'\n",
        "print(nome + ' '+ sobrenome)"
      ],
      "metadata": {
        "colab": {
          "base_uri": "https://localhost:8080/"
        },
        "id": "pCZXB-osrfOG",
        "outputId": "74f23d66-5d7b-434e-c128-21d2614225e4"
      },
      "execution_count": null,
      "outputs": [
        {
          "output_type": "stream",
          "name": "stdout",
          "text": [
            "Neucielle Quadros\n"
          ]
        }
      ]
    },
    {
      "cell_type": "code",
      "source": [
        "# (len) Método que conta  o numero de caracteres de uma string\n",
        "nome = 'Neucielle'\n",
        "contagem = len(nome)\n",
        "print(nome, 'tem' , contagem, 'caracteres')"
      ],
      "metadata": {
        "colab": {
          "base_uri": "https://localhost:8080/"
        },
        "id": "oOwZA3aos9eY",
        "outputId": "e375515e-86cd-46ae-b7ea-7bac375c6c75"
      },
      "execution_count": null,
      "outputs": [
        {
          "output_type": "stream",
          "name": "stdout",
          "text": [
            "Neucielle tem 9 caracteres\n"
          ]
        }
      ]
    },
    {
      "cell_type": "code",
      "source": [
        "# (strip) Método que elimina caracteres indesejados de uma string\n",
        "nome = nome.strip()\n",
        "\n",
        "# Checando se o método foi aplicado\n",
        "print(len(nome))"
      ],
      "metadata": {
        "colab": {
          "base_uri": "https://localhost:8080/"
        },
        "id": "xG-pcyfiwOJ8",
        "outputId": "d1d8176e-013d-400a-f71e-22a34f1a9ac0"
      },
      "execution_count": null,
      "outputs": [
        {
          "output_type": "stream",
          "name": "stdout",
          "text": [
            "9\n"
          ]
        }
      ]
    },
    {
      "cell_type": "code",
      "source": [
        "# (replace) Método que substitui um caracter por outro\n",
        "preco = 'R$ 10,50'\n",
        "print(preco)"
      ],
      "metadata": {
        "colab": {
          "base_uri": "https://localhost:8080/"
        },
        "id": "Ag8sjwy6wQDs",
        "outputId": "7f7a7fc7-5cf4-4941-d332-b0101054bde5"
      },
      "execution_count": null,
      "outputs": [
        {
          "output_type": "stream",
          "name": "stdout",
          "text": [
            "R$ 10,50\n"
          ]
        }
      ]
    },
    {
      "cell_type": "code",
      "source": [
        "# Aplicando o método replace na variável preco\n",
        "preco = preco.replace(',','.')\n",
        "# Checando a aplicação do método\n",
        "print(preco)"
      ],
      "metadata": {
        "colab": {
          "base_uri": "https://localhost:8080/"
        },
        "id": "LRnAULyYwUop",
        "outputId": "005f9e46-832f-40c2-d11c-6b0e4f678a69"
      },
      "execution_count": null,
      "outputs": [
        {
          "output_type": "stream",
          "name": "stdout",
          "text": [
            "R$ 10.50\n"
          ]
        }
      ]
    },
    {
      "cell_type": "code",
      "source": [
        "# Coloque seu nome\n",
        "nome = input('Informe seu nome: ')\n",
        "print('O nome digitado é:', nome)"
      ],
      "metadata": {
        "colab": {
          "base_uri": "https://localhost:8080/"
        },
        "id": "LLRosdEhxjJ8",
        "outputId": "07045a24-005f-458a-a60b-814a2e7306df"
      },
      "execution_count": null,
      "outputs": [
        {
          "output_type": "stream",
          "name": "stdout",
          "text": [
            "Informe seu nome: Neucielle\n",
            "O nome digitado é: Neucielle\n"
          ]
        }
      ]
    },
    {
      "cell_type": "code",
      "source": [
        "# (capitalize) Método para deixar a primeira letra maiuscula\n",
        "nome = nome.capitalize()\n",
        "nome"
      ],
      "metadata": {
        "colab": {
          "base_uri": "https://localhost:8080/",
          "height": 35
        },
        "id": "v_1Ic6xcx2x9",
        "outputId": "f0cd5a5f-4859-4f5d-8b3d-fc8502c9359a"
      },
      "execution_count": null,
      "outputs": [
        {
          "output_type": "execute_result",
          "data": {
            "text/plain": [
              "'Neucielle'"
            ],
            "application/vnd.google.colaboratory.intrinsic+json": {
              "type": "string"
            }
          },
          "metadata": {},
          "execution_count": 57
        }
      ]
    },
    {
      "cell_type": "code",
      "source": [
        "# (upper) Método que coloca todas as letrinhas maiusculas (gritando)\n",
        "nome = nome.upper()\n",
        "nome"
      ],
      "metadata": {
        "colab": {
          "base_uri": "https://localhost:8080/",
          "height": 35
        },
        "id": "YjgAUmOCyHqk",
        "outputId": "88fb3750-fed2-4703-c08b-48aa8764021a"
      },
      "execution_count": null,
      "outputs": [
        {
          "output_type": "execute_result",
          "data": {
            "text/plain": [
              "'NEUCIELLE'"
            ],
            "application/vnd.google.colaboratory.intrinsic+json": {
              "type": "string"
            }
          },
          "metadata": {},
          "execution_count": 58
        }
      ]
    },
    {
      "cell_type": "code",
      "source": [
        "# (casefold) Método que coloca tudo em minusculo\n",
        "nome = nome.casefold()\n",
        "nome"
      ],
      "metadata": {
        "colab": {
          "base_uri": "https://localhost:8080/",
          "height": 35
        },
        "id": "-vw8bzKbyryb",
        "outputId": "fca06491-3a5f-4590-fe3a-fc267bd9cf24"
      },
      "execution_count": null,
      "outputs": [
        {
          "output_type": "execute_result",
          "data": {
            "text/plain": [
              "'neucielle'"
            ],
            "application/vnd.google.colaboratory.intrinsic+json": {
              "type": "string"
            }
          },
          "metadata": {},
          "execution_count": 59
        }
      ]
    },
    {
      "cell_type": "code",
      "source": [
        "#(title) Coloca a primeira letra de cada palavra em maiusculo\n",
        "comp = 'neucielle'\n",
        "print(comp)"
      ],
      "metadata": {
        "colab": {
          "base_uri": "https://localhost:8080/"
        },
        "id": "nUhNM4rjmWcQ",
        "outputId": "91d3bdcf-6f3b-4041-c0b2-b42ae1dd3283"
      },
      "execution_count": null,
      "outputs": [
        {
          "output_type": "stream",
          "name": "stdout",
          "text": [
            "neucielle\n"
          ]
        }
      ]
    },
    {
      "cell_type": "code",
      "source": [
        "# Aplicando o metodo\n",
        "comp = comp.title()\n",
        "print(comp)"
      ],
      "metadata": {
        "colab": {
          "base_uri": "https://localhost:8080/"
        },
        "id": "KH9N1mFomngm",
        "outputId": "ba819530-006c-4732-96b3-7528b03f8103"
      },
      "execution_count": null,
      "outputs": [
        {
          "output_type": "stream",
          "name": "stdout",
          "text": [
            "Neucielle\n"
          ]
        }
      ]
    }
  ]
}