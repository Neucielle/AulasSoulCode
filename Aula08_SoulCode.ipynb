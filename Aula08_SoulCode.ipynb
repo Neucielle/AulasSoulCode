{
  "nbformat": 4,
  "nbformat_minor": 0,
  "metadata": {
    "colab": {
      "provenance": [],
      "authorship_tag": "ABX9TyP3GhomVk1PAuJ/UBBGd/sc",
      "include_colab_link": true
    },
    "kernelspec": {
      "name": "python3",
      "display_name": "Python 3"
    },
    "language_info": {
      "name": "python"
    }
  },
  "cells": [
    {
      "cell_type": "markdown",
      "metadata": {
        "id": "view-in-github",
        "colab_type": "text"
      },
      "source": [
        "<a href=\"https://colab.research.google.com/github/Neucielle/AulasSoulCode/blob/main/Aula08_SoulCode.ipynb\" target=\"_parent\"><img src=\"https://colab.research.google.com/assets/colab-badge.svg\" alt=\"Open In Colab\"/></a>"
      ]
    },
    {
      "cell_type": "markdown",
      "source": [
        "## **Tuplas**\n",
        "\n",
        "*  São imutáveis: uma vez criadas, não podemos alterar\n",
        "*  São ordenáveis: elas mantêm uma ordem especifica com acesso via índice\n",
        "* Permite heterogeneidade: podem conter elementos de diversos tipos\n",
        "* Sintaxe simples: para uma criar uma tupla usamos parênteses."
      ],
      "metadata": {
        "id": "XiNXt7oyD7ut"
      }
    },
    {
      "cell_type": "code",
      "execution_count": null,
      "metadata": {
        "id": "7PNJOob2__5b"
      },
      "outputs": [],
      "source": [
        "# Criando uma Tupla\n",
        "nomes = ('Nancy', 'Fran', 'Lola', 'Polly', 'Dalila')\n",
        "pesos = (86, 54, 5, 76, 73)\n",
        "alturas = (1.65, 1.70, 1.90, 1.67)"
      ]
    },
    {
      "cell_type": "code",
      "source": [
        "# Acessando elementos dentro das tuplas\n",
        "print(f'{nomes[0]} tem {pesos[0] } kg e {alturas[0]} de altura')"
      ],
      "metadata": {
        "colab": {
          "base_uri": "https://localhost:8080/"
        },
        "id": "0Vn4FVf3J6pM",
        "outputId": "8eada3ff-e868-4f9c-be1b-f1ed8aa22deb"
      },
      "execution_count": null,
      "outputs": [
        {
          "output_type": "stream",
          "name": "stdout",
          "text": [
            "Nancy tem 86 kg e 1.65 de altura\n"
          ]
        }
      ]
    },
    {
      "cell_type": "code",
      "source": [
        "# Transformando listas em tuplas\n",
        "produtos = ['teclado', 'mouse', 'monitor', 'placa-mãe']\n",
        "print(type(produtos))"
      ],
      "metadata": {
        "colab": {
          "base_uri": "https://localhost:8080/"
        },
        "id": "SI71ITlAK84r",
        "outputId": "057ee014-1dba-4579-b50e-f71fa25f7d5c"
      },
      "execution_count": null,
      "outputs": [
        {
          "output_type": "stream",
          "name": "stdout",
          "text": [
            "<class 'list'>\n"
          ]
        }
      ]
    },
    {
      "cell_type": "code",
      "source": [
        "# convertendo lista em tupla\n",
        "produtos = tuple(produtos)\n",
        "print(type(produtos))"
      ],
      "metadata": {
        "colab": {
          "base_uri": "https://localhost:8080/"
        },
        "id": "r5XJ993ULKY8",
        "outputId": "3a3560bf-8aa9-4b60-93cc-91da65a6f0b1"
      },
      "execution_count": null,
      "outputs": [
        {
          "output_type": "stream",
          "name": "stdout",
          "text": [
            "<class 'tuple'>\n"
          ]
        }
      ]
    },
    {
      "cell_type": "code",
      "source": [
        "# convertendo tupla para lista\n",
        "produtos = tuple(produtos)\n",
        "print(type(produtos))\n",
        "\n",
        "produtos = list(produtos)\n",
        "print(type(produtos))"
      ],
      "metadata": {
        "colab": {
          "base_uri": "https://localhost:8080/"
        },
        "id": "yPGj7TNRMDqE",
        "outputId": "770c0524-755a-4280-da5f-719a4d217d7d"
      },
      "execution_count": null,
      "outputs": [
        {
          "output_type": "stream",
          "name": "stdout",
          "text": [
            "<class 'tuple'>\n",
            "<class 'list'>\n"
          ]
        }
      ]
    },
    {
      "cell_type": "markdown",
      "source": [
        "## **Dicionários**\n",
        "\n",
        "*  Estrutura Chave-valor: Cada elemento no dicionário consiste em uma chave associada a um valor\n",
        "*  Mutabilidade: Diferentemente das tuplas, os dicionários são MUTÁVEIS. Isso significa que você pode adicionar, remover ou modificar elementos em um dicionário após sua criação.\n",
        "*  Chaves únicas: As chaves em um dicionários são únicas, garantindo que não existam chaves duplicadas."
      ],
      "metadata": {
        "id": "269fidoML14W"
      }
    },
    {
      "cell_type": "code",
      "source": [
        "# Criando e armazenando e um dicionário as informações de nome, idade, peso e altura\n",
        "\n",
        "\n",
        "funcionario = {'nome': 'Nancy',\n",
        "               'idade': 33,\n",
        "               'peso' : 86,\n",
        "               'altura' : 1.66\n",
        "               }\n",
        "print(funcionario)"
      ],
      "metadata": {
        "colab": {
          "base_uri": "https://localhost:8080/"
        },
        "id": "HaMVbMJOMoMV",
        "outputId": "5cf3b9c9-2135-4168-e781-3de1bfe2d187"
      },
      "execution_count": null,
      "outputs": [
        {
          "output_type": "stream",
          "name": "stdout",
          "text": [
            "{'nome': 'Nancy', 'idade': 33, 'peso': 86, 'altura': 1.66}\n"
          ]
        }
      ]
    },
    {
      "cell_type": "code",
      "source": [
        "# acessando valor da chave\n",
        "print(funcionario['nome'])\n",
        "print(funcionario['idade'])\n",
        "print(funcionario['altura'])\n",
        "print(funcionario['peso'])"
      ],
      "metadata": {
        "colab": {
          "base_uri": "https://localhost:8080/"
        },
        "id": "nPzzftYeSVWm",
        "outputId": "20981a2a-073d-48c0-bab7-32b560a7eed9"
      },
      "execution_count": null,
      "outputs": [
        {
          "output_type": "stream",
          "name": "stdout",
          "text": [
            "Nancy\n",
            "33\n",
            "1.66\n",
            "86\n"
          ]
        }
      ]
    },
    {
      "cell_type": "code",
      "source": [
        "# Outra forma de acessar valor no meu dicionário\n",
        "print(funcionario.get('nome'))\n",
        "print(funcionario.get('idade'))\n",
        "print(funcionario.get('altura'))\n",
        "print(funcionario.get('peso'))"
      ],
      "metadata": {
        "colab": {
          "base_uri": "https://localhost:8080/"
        },
        "id": "LFB-tBEkSwba",
        "outputId": "ffb4374b-f346-49eb-9b2f-343760f50c63"
      },
      "execution_count": null,
      "outputs": [
        {
          "output_type": "stream",
          "name": "stdout",
          "text": [
            "Nancy\n",
            "33\n",
            "1.66\n",
            "86\n"
          ]
        }
      ]
    },
    {
      "cell_type": "code",
      "source": [
        "# Vamos fazer uma lista dentro de um dicionário\n",
        "\n",
        "dicionario_lista = {\n",
        "        'nome': 'Nancy',\n",
        "        'idade' : 33,\n",
        "        'animais' : ['Lola', 'Átila', 'Mimi', 'Peludinha', 'Nero', 'Dóris'],\n",
        "        'idades' : [4, 8, 2, 10, 1, 7]\n",
        "        }\n",
        "print(dicionario_lista)"
      ],
      "metadata": {
        "colab": {
          "base_uri": "https://localhost:8080/"
        },
        "id": "3QVG1q5IS5ZG",
        "outputId": "26f6b44c-9fef-43ba-b720-d2340b632033"
      },
      "execution_count": null,
      "outputs": [
        {
          "output_type": "stream",
          "name": "stdout",
          "text": [
            "{'nome': 'Nancy', 'idade': 33, 'animais': ['Lola', 'Átila', 'Mimi', 'Peludinha', 'Nero', 'Dóris'], 'idades': [4, 8, 2, 10, 1, 7]}\n"
          ]
        }
      ]
    },
    {
      "cell_type": "code",
      "source": [
        "# Métodos importantes\n",
        "# Utilize os métodos keys() e values()\n",
        "# Serve para obter todas as chaves ou valores do dicionário\n",
        "\n",
        "chaves = dicionario_lista.keys()\n",
        "print(chaves)\n",
        "\n",
        "valores = dicionario_lista.values()\n",
        "print(valores)"
      ],
      "metadata": {
        "colab": {
          "base_uri": "https://localhost:8080/"
        },
        "id": "oAii3iaqUH8S",
        "outputId": "22e7b8f5-229d-469c-c117-14c16beda7b7"
      },
      "execution_count": null,
      "outputs": [
        {
          "output_type": "stream",
          "name": "stdout",
          "text": [
            "dict_keys(['nome', 'idade', 'animais', 'idades'])\n",
            "dict_values(['Nancy', 33, ['Lola', 'Átila', 'Mimi', 'Peludinha', 'Nero', 'Dóris'], [4, 8, 2, 10, 1, 7]])\n"
          ]
        }
      ]
    },
    {
      "cell_type": "code",
      "source": [
        "# Métodos importantes\n",
        "# Utilize os métodos keys() e values()\n",
        "# Serve para obter todas as chaves ou valores do dicionário\n",
        "\n",
        "chaves = dicionario_lista.keys()\n",
        "print(chaves)\n",
        "\n",
        "valores = dicionario_lista.values()\n",
        "print(valores)\n"
      ],
      "metadata": {
        "colab": {
          "base_uri": "https://localhost:8080/"
        },
        "id": "ZYQawD0jabpV",
        "outputId": "26b93baa-e1a9-488f-95c7-d8c5f10144d2"
      },
      "execution_count": null,
      "outputs": [
        {
          "output_type": "stream",
          "name": "stdout",
          "text": [
            "dict_keys(['nome', 'idade', 'animais', 'idades'])\n",
            "dict_values(['Nancy', 33, ['Lola', 'Átila', 'Mimi', 'Peludinha', 'Nero', 'Dóris'], [4, 8, 2, 10, 1, 7]])\n"
          ]
        }
      ]
    },
    {
      "cell_type": "code",
      "source": [
        "# Declarar um dicionário\n",
        "pessoa = {'nome': 'Joaquim da Silva',\n",
        "          'telefone': '(11)33333-3333',\n",
        "          'cpf': '000.000.000-00'\n",
        "          }\n",
        "\n",
        "# Coloca o nome da chave\n",
        "print(pessoa['nome'])\n",
        "print(pessoa['telefone'])\n",
        "print(pessoa['cpf'])"
      ],
      "metadata": {
        "colab": {
          "base_uri": "https://localhost:8080/"
        },
        "id": "3uodT_Pia5DY",
        "outputId": "6ca671cf-e648-4181-f7b5-9435ee3f5407"
      },
      "execution_count": null,
      "outputs": [
        {
          "output_type": "stream",
          "name": "stdout",
          "text": [
            "Joaquim da Silva\n",
            "(11)33333-3333\n",
            "000.000.000-00\n"
          ]
        }
      ]
    },
    {
      "cell_type": "code",
      "source": [
        "# Exemplo 2: Lista dentro do dicionário\n",
        "telefones = ['(11)9.0000-0000', '(21)9.0000-0000', '(31)9.0000-0000']\n",
        "\n",
        "telefones = {'sp':['(11)9.0000-0000', '(11)9.0000-0001','(11)9.0000-0002'],\n",
        "             'rj':'(21)9.0000-0000',\n",
        "             'mg': '(31)9.0000-0000' }\n",
        "\n",
        "# Informação pela chave\n",
        "print(telefones['sp'])"
      ],
      "metadata": {
        "colab": {
          "base_uri": "https://localhost:8080/"
        },
        "id": "XEZvQc1kaq4r",
        "outputId": "53c9eb68-ef0d-4a61-e4f5-89c795addfbc"
      },
      "execution_count": null,
      "outputs": [
        {
          "output_type": "stream",
          "name": "stdout",
          "text": [
            "['(11)9.0000-0000', '(11)9.0000-0001', '(11)9.0000-0002']\n"
          ]
        }
      ]
    },
    {
      "cell_type": "code",
      "source": [
        "# Criando uma lista\n",
        "lista = ['cris', 'ro']\n",
        "\n",
        "# Adicionando uma lista de itens ao final da lista\n",
        "lista.extend(['ana', 'marcos', 'carina'])\n",
        "\n",
        "# Imprimindo a lista\n",
        "print(lista)"
      ],
      "metadata": {
        "colab": {
          "base_uri": "https://localhost:8080/"
        },
        "id": "EXccqvQrfuWu",
        "outputId": "80506d41-ed7c-4d38-8b6c-58ab958b10df"
      },
      "execution_count": null,
      "outputs": [
        {
          "output_type": "stream",
          "name": "stdout",
          "text": [
            "['cris', 'ro', 'ana', 'marcos', 'carina']\n"
          ]
        }
      ]
    },
    {
      "cell_type": "markdown",
      "source": [
        "A estrutura while é uma das formas mais comuns de controle de fluxo em programação, permitindo que um bloco de código seja executado repetidamente enquanto uma condição especificada seja verdadeira. É crucial garantir que a condição eventualmente se torne falsa, pois, se não o fizer, seu programa ficará preso em um \"loop infinito\", consumindo recursos da máquina indefinidamente."
      ],
      "metadata": {
        "id": "iaFO7u9XgWkF"
      }
    },
    {
      "cell_type": "code",
      "source": [
        "'''\n",
        "while condição:\n",
        "    blocodecodigo1\n",
        "'''"
      ],
      "metadata": {
        "id": "7UMfCTMngv27"
      },
      "execution_count": null,
      "outputs": []
    },
    {
      "cell_type": "markdown",
      "source": [
        "O while não possui um contador interno. Em vez disso, ele depende de uma condição para continuar ou interromper a repetição. Isso o torna muito flexível e útil."
      ],
      "metadata": {
        "id": "9fjurZ2Kgw4N"
      }
    },
    {
      "cell_type": "code",
      "source": [
        "'''\n",
        "i = 1, 0 , -1 ou outros (inicio da contagem, também chamada de váriável de indexação ou controle)\n",
        "\n",
        "while condição (normalmente um operador relacional com a condição de parada):\n",
        "    bloco de codigo enquanto a condição é verdadeira\n",
        "    operadores de atribuição\n",
        "'''"
      ],
      "metadata": {
        "id": "s3tu26gphJjp"
      },
      "execution_count": null,
      "outputs": []
    },
    {
      "cell_type": "code",
      "source": [
        "# O while necessita de um contador\n",
        "# O while precisa ser incrementado ou decrementado\n",
        "'''\n",
        "5\n",
        "4\n",
        "3\n",
        "2\n",
        "1\n",
        "'''\n",
        "\n",
        "contagem = 5                      # é da onde eu inicio\n",
        "while contagem > 0:               # condição parada\n",
        "    print(contagem)               # imprimir na tela\n",
        "    contagem -= 1                 # como?\n",
        "    # contagem = contagem - 1"
      ],
      "metadata": {
        "colab": {
          "base_uri": "https://localhost:8080/"
        },
        "id": "5zYj1AIFiH9h",
        "outputId": "189bb473-5604-4bda-d66a-a571958877d6"
      },
      "execution_count": null,
      "outputs": [
        {
          "output_type": "stream",
          "name": "stdout",
          "text": [
            "5\n",
            "4\n",
            "3\n",
            "2\n",
            "1\n"
          ]
        }
      ]
    },
    {
      "cell_type": "code",
      "source": [
        "i = 5\n",
        "while i > 0:\n",
        "    print(i)\n",
        "    i -= 1\n"
      ],
      "metadata": {
        "colab": {
          "base_uri": "https://localhost:8080/"
        },
        "id": "n_UpcxgikAG8",
        "outputId": "a9127661-9416-4fdd-8858-5675aff04015"
      },
      "execution_count": null,
      "outputs": [
        {
          "output_type": "stream",
          "name": "stdout",
          "text": [
            "5\n",
            "4\n",
            "3\n",
            "2\n",
            "1\n"
          ]
        }
      ]
    },
    {
      "cell_type": "code",
      "source": [
        "# Validando informações do usuário\n",
        "\n",
        "numero_secreto = 42\n",
        "palpite = 0\n",
        "tentativas = 0\n",
        "\n",
        "while palpite != numero_secreto:\n",
        "    palpite = int(input('Adivinhe o numero secreto. Escreva aqui: '))\n",
        "    tentativas += 1\n",
        "    # tentativa = tentativa + 1\n",
        "\n",
        "print(f'Parabéns! Você acertou em {tentativas} tentativas o número secreto!')"
      ],
      "metadata": {
        "colab": {
          "base_uri": "https://localhost:8080/"
        },
        "id": "uP21diFsmt4B",
        "outputId": "1f399451-606a-4f16-cc48-65176f053c89"
      },
      "execution_count": null,
      "outputs": [
        {
          "output_type": "stream",
          "name": "stdout",
          "text": [
            "Adivinhe o numero secreto. Escreva aqui: 7\n",
            "Adivinhe o numero secreto. Escreva aqui: 8\n",
            "Adivinhe o numero secreto. Escreva aqui: 4\n",
            "Adivinhe o numero secreto. Escreva aqui: 9\n",
            "Adivinhe o numero secreto. Escreva aqui: 87\n",
            "Adivinhe o numero secreto. Escreva aqui: 42\n",
            "Parabéns! Você acertou em 6 tentativas o número secreto!\n"
          ]
        }
      ]
    },
    {
      "cell_type": "code",
      "source": [
        "# Pedir para o usuário digitar um número positivo!\n",
        "# Se o usuário digitar um número que não seja positivo de um recado\n",
        "# \"Solicita ao usuário que insira um número positivo\"\n",
        "\n",
        "numero = float(input('Digite um numero positivo: '))\n",
        "\n",
        "# Continua solicitando entrada até que o número seja positivo\n",
        "while numero <= 0:\n",
        "    numero = float(input('O numero não é positivo! Eu quero um número positivo: '))\n",
        "\n",
        "\n",
        "# Quando um número positivo é inserido, exibe uma mensagem\n",
        "print(\"Temos um número positivo! Show de bolinha\")"
      ],
      "metadata": {
        "colab": {
          "base_uri": "https://localhost:8080/"
        },
        "id": "Bhwte9XppPUJ",
        "outputId": "0e058296-edab-439a-a9e2-e8a0324a725c"
      },
      "execution_count": null,
      "outputs": [
        {
          "output_type": "stream",
          "name": "stdout",
          "text": [
            "Digite um numero positivo: -1\n",
            "O numero não é positivo! Eu quero um número positivo: -8\n",
            "O numero não é positivo! Eu quero um número positivo: 8\n",
            "Temos um número positivo! Show de bolinha\n"
          ]
        }
      ]
    },
    {
      "cell_type": "markdown",
      "source": [
        "**Controle de Estoque**\n",
        "\n",
        "Problema: Você precisa controlar o estoque de um determinado produto. O estoque inicial é de 100 unidades. A cada venda realizada, você precisa atualizar o estoque restante até que o estoque seja zerado."
      ],
      "metadata": {
        "id": "dwtIK9aKu_5C"
      }
    },
    {
      "cell_type": "code",
      "source": [
        "print('---------------------- SISTEMA DE CONTROLE DE ESTOQUE ----------------------')\n",
        "\n",
        "# Boas vindas\n",
        "print(\"Bem-vindo ao sistema de controle de estoque.\")\n",
        "\n",
        "estoque_inicial = 100\n",
        "continuar = True # Variável para controlar se o usuário quer continuar no sistema ou não.\n",
        "\n",
        "# Enquanto ainda houver unidades no estoque e o usuário quiser continuar:\n",
        "while estoque_inicial > 0 and continuar:\n",
        "    venda = int(input(\"Quantas unidades foram vendidas? (Digite 0 para sair) \"))\n",
        "# Se o usuário digitou 0, quer sair do sistema.\n",
        "    if venda == 0:\n",
        "        continuar = False\n",
        "        print(\"Encerrando o sistema de controle de estoque.\")\n",
        "\n",
        "    # Se a quantidade de unidades vendidas for maior que o estoque disponível, avisa o usuário.\n",
        "    elif venda > estoque_inicial:\n",
        "         print(\"Não há unidades suficientes em estoque. Apenas\", estoque_inicial, \"unidades disponíveis.\")\n",
        "\n",
        "    # Caso contrário, subtrai a quantidade vendida do estoque e mostra o estoque restante.\n",
        "    else:\n",
        "        estoque_inicial -= venda # estoque_inicial = estoque_inicial - venda\n",
        "        print(\"Venda realizada. Estoque restante:\", estoque_inicial)\n",
        "# Quando o estoque acabar, mostra uma mensagem indicando que não há mais unidades disponíveis.\n",
        "if estoque_inicial == 0:\n",
        "    print(\"Estoque zerado. Não há mais unidades disponíveis.\")\n"
      ],
      "metadata": {
        "colab": {
          "base_uri": "https://localhost:8080/"
        },
        "id": "y2MVA4HnvZtD",
        "outputId": "fb578ed3-8339-4528-a4af-834b77bcf215"
      },
      "execution_count": null,
      "outputs": [
        {
          "output_type": "stream",
          "name": "stdout",
          "text": [
            "---------------------- SISTEMA DE CONTROLE DE ESTOQUE ----------------------\n",
            "Bem-vindo ao sistema de controle de estoque.\n",
            "Quantas unidades foram vendidas? (Digite 0 para sair) 34\n",
            "Venda realizada. Estoque restante: 66\n",
            "Quantas unidades foram vendidas? (Digite 0 para sair) 7\n",
            "Venda realizada. Estoque restante: 59\n",
            "Quantas unidades foram vendidas? (Digite 0 para sair) 6\n",
            "Venda realizada. Estoque restante: 53\n",
            "Quantas unidades foram vendidas? (Digite 0 para sair) 56\n",
            "Não há unidades suficientes em estoque. Apenas 53 unidades disponíveis.\n",
            "Quantas unidades foram vendidas? (Digite 0 para sair) 8\n",
            "Venda realizada. Estoque restante: 45\n",
            "Quantas unidades foram vendidas? (Digite 0 para sair) 67\n",
            "Não há unidades suficientes em estoque. Apenas 45 unidades disponíveis.\n",
            "Quantas unidades foram vendidas? (Digite 0 para sair) 43\n",
            "Venda realizada. Estoque restante: 2\n",
            "Quantas unidades foram vendidas? (Digite 0 para sair) 0\n",
            "Encerrando o sistema de controle de estoque.\n"
          ]
        }
      ]
    },
    {
      "cell_type": "code",
      "source": [],
      "metadata": {
        "id": "0pI2kx21x6zj"
      },
      "execution_count": null,
      "outputs": []
    }
  ]
}