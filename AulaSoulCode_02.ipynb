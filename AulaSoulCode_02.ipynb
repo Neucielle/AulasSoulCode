{
  "nbformat": 4,
  "nbformat_minor": 0,
  "metadata": {
    "colab": {
      "provenance": [],
      "authorship_tag": "ABX9TyO5DjLSuEkdNOvGzpFkYlLO",
      "include_colab_link": true
    },
    "kernelspec": {
      "name": "python3",
      "display_name": "Python 3"
    },
    "language_info": {
      "name": "python"
    }
  },
  "cells": [
    {
      "cell_type": "markdown",
      "metadata": {
        "id": "view-in-github",
        "colab_type": "text"
      },
      "source": [
        "<a href=\"https://colab.research.google.com/github/Neucielle/AulasSoulCode/blob/main/AulaSoulCode_02.ipynb\" target=\"_parent\"><img src=\"https://colab.research.google.com/assets/colab-badge.svg\" alt=\"Open In Colab\"/></a>"
      ]
    },
    {
      "cell_type": "markdown",
      "source": [
        "# **Introdução ao Python**"
      ],
      "metadata": {
        "id": "kjGmBZNKMlQg"
      }
    },
    {
      "cell_type": "markdown",
      "source": [
        "Escola: SouCode Academy\n",
        "\n",
        "Curso: Análise de Dados e Dashboards\n",
        "\n",
        "Período: Noturno\n",
        "\n",
        "Assunto: Python\n",
        "\n",
        "Professora: Franciane Rodrigues\n",
        "\n",
        "Aluna: Neucielle Quadros"
      ],
      "metadata": {
        "id": "vpGptCTTMnNA"
      }
    },
    {
      "cell_type": "markdown",
      "source": [
        "## **Comentário e tipos básicos de dados**"
      ],
      "metadata": {
        "id": "GXPx9ZvZMvIQ"
      }
    },
    {
      "cell_type": "code",
      "execution_count": null,
      "metadata": {
        "id": "Yl8YwqmD_slz",
        "colab": {
          "base_uri": "https://localhost:8080/"
        },
        "outputId": "a57d140f-e5f9-48ac-a1be-e0695cbf938e"
      },
      "outputs": [
        {
          "output_type": "stream",
          "name": "stdout",
          "text": [
            "Olá Mundo\n",
            "Olá Mundo\n"
          ]
        }
      ],
      "source": [
        "print('Olá Mundo') # Usando aspas simples\n",
        "print(\"Olá Mundo\") # Usando aspas duplas\n"
      ]
    },
    {
      "cell_type": "code",
      "source": [
        "##Isso aqui é um comentário"
      ],
      "metadata": {
        "id": "9UN2eDVpOPDV"
      },
      "execution_count": null,
      "outputs": []
    },
    {
      "cell_type": "code",
      "source": [
        "'''\n",
        "Isso é um\n",
        "comentário\n",
        "Longo ou grande\n",
        "'''"
      ],
      "metadata": {
        "colab": {
          "base_uri": "https://localhost:8080/",
          "height": 35
        },
        "id": "CsScWg0wOaeF",
        "outputId": "0b897ea4-4e3b-4c27-8a98-603cdf9ac9d2"
      },
      "execution_count": null,
      "outputs": [
        {
          "output_type": "execute_result",
          "data": {
            "text/plain": [
              "'\\nIsso é um \\ncomentário \\nLongo ou grande\\n'"
            ],
            "application/vnd.google.colaboratory.intrinsic+json": {
              "type": "string"
            }
          },
          "metadata": {},
          "execution_count": 5
        }
      ]
    },
    {
      "cell_type": "code",
      "source": [
        "\"\"\"Isso tambem é um comentario \"\"\""
      ],
      "metadata": {
        "colab": {
          "base_uri": "https://localhost:8080/",
          "height": 35
        },
        "id": "cDCMIOA-Pbi_",
        "outputId": "e2381fd0-0752-4c2b-f7b7-91196c640c77"
      },
      "execution_count": null,
      "outputs": [
        {
          "output_type": "execute_result",
          "data": {
            "text/plain": [
              "'Isso tambem é um comentario '"
            ],
            "application/vnd.google.colaboratory.intrinsic+json": {
              "type": "string"
            }
          },
          "metadata": {},
          "execution_count": 8
        }
      ]
    },
    {
      "cell_type": "code",
      "source": [
        "# Vamos escrever nossos dados pessoais e imprimir na tela\n",
        "print(33)               #int - numerica / quantitativa\n",
        "print(1.65)             # float - numerica / quantitativa\n",
        "print('Neucielle')      # str (string)  - qualitativas / categoricas\n",
        "print(\"Quadros\")        # str(string)  - qualitativas / categoricas\n",
        "print(False)            # bool  - qualitativas / categoricas"
      ],
      "metadata": {
        "colab": {
          "base_uri": "https://localhost:8080/"
        },
        "id": "4rQyP9uCQ8Da",
        "outputId": "93db6740-7d3f-42fe-ce33-334cb85b2c6f"
      },
      "execution_count": null,
      "outputs": [
        {
          "output_type": "stream",
          "name": "stdout",
          "text": [
            "33\n",
            "1.65\n",
            "Neucielle\n",
            "Quadros\n",
            "False\n"
          ]
        }
      ]
    },
    {
      "cell_type": "markdown",
      "source": [
        "## **Variáveis**"
      ],
      "metadata": {
        "id": "kiORvvpNWQba"
      }
    },
    {
      "cell_type": "code",
      "source": [
        "# Declarando Variáveis\n",
        "idade = 33\n",
        "altura = 1.65\n",
        "nome = \"Neucielle\"\n",
        "sobrenome = 'Quadros'\n",
        "filhos = False\n",
        "\n",
        "\n",
        "# Imprimindo na tela\n",
        "\n",
        "print(idade)\n",
        "print(altura)\n",
        "print(nome)\n",
        "print(sobrenome)\n",
        "print(filhos)\n",
        "\n",
        "\n",
        "print(idade, altura, nome, sobrenome, filhos, sep=', ')"
      ],
      "metadata": {
        "colab": {
          "base_uri": "https://localhost:8080/"
        },
        "id": "R44kus3XWOs5",
        "outputId": "3aac2958-2c93-4317-dc21-4bcc8eff06a3"
      },
      "execution_count": null,
      "outputs": [
        {
          "output_type": "stream",
          "name": "stdout",
          "text": [
            "33\n",
            "1.65\n",
            "Neucielle\n",
            "Quadros\n",
            "False\n",
            "33, 1.65, Neucielle, Quadros, False\n"
          ]
        }
      ]
    },
    {
      "cell_type": "code",
      "source": [
        "#Checando o tipo de dado\n",
        "type(idade)"
      ],
      "metadata": {
        "colab": {
          "base_uri": "https://localhost:8080/"
        },
        "id": "2wXjeQ6ebMmj",
        "outputId": "3ab171cf-22f4-4b78-9cc6-9676e7945adb"
      },
      "execution_count": null,
      "outputs": [
        {
          "output_type": "execute_result",
          "data": {
            "text/plain": [
              "int"
            ]
          },
          "metadata": {},
          "execution_count": 17
        }
      ]
    },
    {
      "cell_type": "code",
      "source": [
        "#Checando o tipo de dado guardado em cada variavel\n",
        "print(type(idade))\n",
        "print(type(altura))\n",
        "print(type(nome))\n",
        "print(type(sobrenome))\n",
        "print(type(filhos))\n"
      ],
      "metadata": {
        "colab": {
          "base_uri": "https://localhost:8080/"
        },
        "id": "gBON3_mIbY1s",
        "outputId": "22bd79c4-e60b-45be-b04b-c73cc3b98be4"
      },
      "execution_count": null,
      "outputs": [
        {
          "output_type": "stream",
          "name": "stdout",
          "text": [
            "<class 'int'>\n",
            "<class 'float'>\n",
            "<class 'str'>\n",
            "<class 'str'>\n",
            "<class 'bool'>\n"
          ]
        }
      ]
    },
    {
      "cell_type": "code",
      "source": [
        "#Armazenando string e números\n",
        "\n",
        "nome_completo = 'Neucielle Quadros'\n",
        "numero_fav = '34'"
      ],
      "metadata": {
        "id": "WpsDTX6ccL_q"
      },
      "execution_count": null,
      "outputs": []
    },
    {
      "cell_type": "code",
      "source": [
        "#checando o tipo de variável\n",
        "print(type(nome_completo))\n",
        "print(type(numero_fav))\n"
      ],
      "metadata": {
        "colab": {
          "base_uri": "https://localhost:8080/"
        },
        "id": "Vuji4dsUcbN6",
        "outputId": "a591b6ea-66ec-4b61-b8d7-5271900ec504"
      },
      "execution_count": null,
      "outputs": [
        {
          "output_type": "stream",
          "name": "stdout",
          "text": [
            "<class 'str'>\n",
            "<class 'str'>\n"
          ]
        }
      ]
    },
    {
      "cell_type": "code",
      "source": [
        "# Atenção: O python é sensivel à letras maiusculas e minúsculas\n",
        "nome = 'Neucielle'\n",
        "print(nome)"
      ],
      "metadata": {
        "colab": {
          "base_uri": "https://localhost:8080/"
        },
        "id": "9nYrtvNtdZ4E",
        "outputId": "a2b2ca67-b779-4daa-9abf-4f21416a3e3f"
      },
      "execution_count": null,
      "outputs": [
        {
          "output_type": "stream",
          "name": "stdout",
          "text": [
            "Neucielle\n"
          ]
        }
      ]
    },
    {
      "cell_type": "code",
      "source": [
        "#Chamando variável com letra minuscula.\n",
        "# print(Nome) # => Case sensitive"
      ],
      "metadata": {
        "id": "gxNYrzQldntS"
      },
      "execution_count": null,
      "outputs": []
    }
  ]
}