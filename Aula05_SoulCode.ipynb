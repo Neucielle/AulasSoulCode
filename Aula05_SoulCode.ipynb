{
  "nbformat": 4,
  "nbformat_minor": 0,
  "metadata": {
    "colab": {
      "provenance": [],
      "authorship_tag": "ABX9TyPibJTiDbx8Z2Uy08bWXmP/",
      "include_colab_link": true
    },
    "kernelspec": {
      "name": "python3",
      "display_name": "Python 3"
    },
    "language_info": {
      "name": "python"
    }
  },
  "cells": [
    {
      "cell_type": "markdown",
      "metadata": {
        "id": "view-in-github",
        "colab_type": "text"
      },
      "source": [
        "<a href=\"https://colab.research.google.com/github/Neucielle/AulasSoulCode/blob/main/Aula05_SoulCode.ipynb\" target=\"_parent\"><img src=\"https://colab.research.google.com/assets/colab-badge.svg\" alt=\"Open In Colab\"/></a>"
      ]
    },
    {
      "cell_type": "markdown",
      "source": [
        "**Escola:** SoulCode Academy\n",
        "\n",
        "**Curso:** Análise de Dados e Dashboards\n",
        "\n",
        "**Período:** Noturno\n",
        "\n",
        "**Assunto:** Python\n",
        "\n",
        "**Professora:** Franciane Rodrigues\n",
        "\n",
        "**Aluna:** Neucielle Quadros"
      ],
      "metadata": {
        "id": "N0HHroY4pVxx"
      }
    },
    {
      "cell_type": "markdown",
      "source": [
        "## **Estrutura de Condição: IF,  ELSE, ELIF**"
      ],
      "metadata": {
        "id": "9WvsfOfXpiT2"
      }
    },
    {
      "cell_type": "markdown",
      "source": [
        "Intrução IF\n",
        "\n",
        "* A instrução \"IF\" é usada para executar um bloco de códigos se uma determinada condição for verdadeira. A seguinte sintaxe geral é a seguinte:"
      ],
      "metadata": {
        "id": "s5IQ8u8rprf2"
      }
    },
    {
      "cell_type": "code",
      "source": [
        "''''\n",
        "if condição:\n",
        "    # bloco de código a ser executado\n",
        "''''\n"
      ],
      "metadata": {
        "id": "X7EWRhiAqWFG"
      },
      "execution_count": null,
      "outputs": []
    },
    {
      "cell_type": "code",
      "source": [
        "# Informar a Variável\n",
        "idade = int(input(\"Digite a sua idade:\"))\n",
        "print(f'A idade digitada foi: {idade}:')\n",
        "\n",
        "# A condição\n",
        "if idade >= 18:\n",
        "    print('Você é maior de idade!')\n"
      ],
      "metadata": {
        "colab": {
          "base_uri": "https://localhost:8080/"
        },
        "id": "tNwGxINxrK_b",
        "outputId": "66edc8fc-4398-48db-e09e-cb38a9f46f94"
      },
      "execution_count": null,
      "outputs": [
        {
          "output_type": "stream",
          "name": "stdout",
          "text": [
            "Digite a sua idade:19\n",
            "A idade digitada foi: 19:\n",
            "Você é maior de idade!\n"
          ]
        }
      ]
    },
    {
      "cell_type": "code",
      "source": [
        "clima = input('Digite o clima atual: ')\n",
        "\n",
        "if clima.lower() == 'ensolarado':\n",
        "    print('É um ótimo dia para ir no parque.')"
      ],
      "metadata": {
        "colab": {
          "base_uri": "https://localhost:8080/"
        },
        "id": "H4mDpzIVtkjM",
        "outputId": "5fc2a6b6-7908-4fce-c5c4-9c01214e1a3d"
      },
      "execution_count": null,
      "outputs": [
        {
          "output_type": "stream",
          "name": "stdout",
          "text": [
            "Digite o clima atual: ENSOLARADO\n",
            "É um ótimo dia para ir no parque.\n"
          ]
        }
      ]
    },
    {
      "cell_type": "markdown",
      "source": [
        "Instrução \"ELSE\"\n",
        "\n",
        "* A instrução \"else\" é usada em conjunto com a instrução \"if\"  e especifica um bloco de código a ser executado se a condição do \"if\" for falsa. A sintaxe geral é a seguinte:"
      ],
      "metadata": {
        "id": "uGySbwDg0eoO"
      }
    },
    {
      "cell_type": "code",
      "source": [
        "'''\n",
        "if condição:\n",
        "    # bloco de código a ser executado se a condição for verdadeira;\n",
        "else:\n",
        "    # bloco de código a ser executado se a condição for falsa;\n",
        "'''"
      ],
      "metadata": {
        "id": "RXrkBCun1dfG"
      },
      "execution_count": null,
      "outputs": []
    },
    {
      "cell_type": "code",
      "source": [
        "# Entrada de dados\n",
        "idade = int(input('Digite a sua idade: '))\n",
        "\n",
        "\n",
        "# Decisão\n",
        "if idade >= 18:\n",
        "    print('Você é maior de idade!')\n",
        "else:\n",
        "    print('Você é menor de idade!')"
      ],
      "metadata": {
        "colab": {
          "base_uri": "https://localhost:8080/"
        },
        "id": "QU23uqzF1euu",
        "outputId": "e3d2a1e0-fd3c-403e-d9bb-dd70144165bc"
      },
      "execution_count": null,
      "outputs": [
        {
          "output_type": "stream",
          "name": "stdout",
          "text": [
            "Digite a sua idade: 17\n",
            "Você é menor de idade!\n"
          ]
        }
      ]
    },
    {
      "cell_type": "code",
      "source": [
        "# Exemplo: Escreva um pequeno código que decida se um numero\n",
        "# é positivo ou negativo\n",
        "\n",
        "numero = float(input('Escreva um número: '))\n",
        "\n",
        "# Verificar se o numero informado é positivo ou negativo\n",
        "\n",
        "if numero > 0:\n",
        "    print('O número informado é positivo')\n",
        "else:\n",
        "    print('O número informado é negativo')"
      ],
      "metadata": {
        "colab": {
          "base_uri": "https://localhost:8080/"
        },
        "id": "9uoJgBeW5whI",
        "outputId": "aa9a6ebf-ef47-4650-fce9-b495ae8788ea"
      },
      "execution_count": null,
      "outputs": [
        {
          "output_type": "stream",
          "name": "stdout",
          "text": [
            "Escreva um número: 3\n",
            "O número informado é positivo\n"
          ]
        }
      ]
    },
    {
      "cell_type": "markdown",
      "source": [
        "Instrução \"elif\" (meio termo)\n",
        "\n",
        "* A instrução \"elif\" é uma abreviação de \"else if\" (senão se) e permite testar múltiplas condições em sequência. Ela é usada quando há mais de duas possibilidades a serem consideradas. A sintaxe geral é a seguinte:"
      ],
      "metadata": {
        "id": "oyEMP6Zd78l6"
      }
    },
    {
      "cell_type": "code",
      "source": [
        "'''\n",
        "if condição1:\n",
        "    # bloco de código a ser executado se a condição1 for verdadeira\n",
        "elif condição2:\n",
        "    # bloco de código a ser executado se a condição2 for verdadeira\n",
        "else:\n",
        "    # bloco de código a ser executado se nenhuma das condições\n",
        "    # anteriores forem verdadeiras\n",
        "'''"
      ],
      "metadata": {
        "id": "hbvdRtPn8fww"
      },
      "execution_count": null,
      "outputs": []
    },
    {
      "cell_type": "markdown",
      "source": [
        "Exemplo: Faça um algoritmo que avalie a nota do aluno:\n",
        "\n",
        "* se ele tirou igual ou acima de 90, seu conceito é A;\n",
        "* se ele tirou igual ou acima de 80, seu conceito é B;\n",
        "* se ele tirou igual ou acima de 70, seu conceito é C;\n",
        "* se ele tirou abaixo de 70, seu conceito é D;"
      ],
      "metadata": {
        "id": "Klov5jJJBvxT"
      }
    },
    {
      "cell_type": "code",
      "source": [
        "# Entrada de dados\n",
        "nota = float(input('Digitar a nota do aluno: '))\n",
        "\n",
        "# Avaliação e decisão\n",
        "if nota >= 90 and nota <= 100:\n",
        "    print('Sua nota é A!')\n",
        "\n",
        "elif nota >= 80 and nota < 90:\n",
        "    print('Sua nota é B!')\n",
        "\n",
        "elif nota >= 70 and nota < 80:\n",
        "    print('Sua nota é C!')\n",
        "\n",
        "else:\n",
        "    print('Sua nota é D!')"
      ],
      "metadata": {
        "colab": {
          "base_uri": "https://localhost:8080/"
        },
        "id": "brK_LlaWBxuD",
        "outputId": "8ebde399-23bf-42e1-e232-11a653862cbf"
      },
      "execution_count": null,
      "outputs": [
        {
          "output_type": "stream",
          "name": "stdout",
          "text": [
            "Digitar a nota do aluno: 120\n",
            "Sua nota é D!\n"
          ]
        }
      ]
    },
    {
      "cell_type": "code",
      "source": [
        "# Problemas de IMC\n",
        "\n",
        "# Entradas de dados\n",
        "nome = input('Digite seu nome: ')\n",
        "peso = int(input('Informe seu peso: '))\n",
        "altura = float(input('Informe sua altura: '))\n",
        "\n",
        "# Calculando o IMC\n",
        "imc = peso / altura ** 2\n",
        "\n",
        "# Imprimindo na tela\n",
        "print(f'{nome}, seu IMC é: {imc:.2f}')\n",
        "\n",
        "# Verificando a classificação do IMC do paciente\n",
        "\n",
        "if imc < 18.5:\n",
        "    print('Você esta abaixo do peso.')\n",
        "elif imc >= 18.5 and imc < 25:\n",
        "    print('Você esta normal.')\n",
        "elif imc  >= 25 and imc < 40:\n",
        "    print('Você esta com sobrepeso.')\n",
        "else:\n",
        "    print('Voce esta obeso!')"
      ],
      "metadata": {
        "colab": {
          "base_uri": "https://localhost:8080/"
        },
        "id": "pQvKeswTGNlM",
        "outputId": "763b9dce-0574-43fe-ba91-e1e5365c36aa"
      },
      "execution_count": null,
      "outputs": [
        {
          "output_type": "stream",
          "name": "stdout",
          "text": [
            "Digite seu nome: fgfg\n",
            "Informe seu peso: 45\n",
            "Informe sua altura: 1.89\n",
            "fgfg, seu IMC é: 12.60\n",
            "Você esta abaixo do peso.\n"
          ]
        }
      ]
    },
    {
      "cell_type": "markdown",
      "source": [
        "## **IF, ELSE, ELIF aninhado**"
      ],
      "metadata": {
        "id": "K2NOqR_zQJfX"
      }
    },
    {
      "cell_type": "markdown",
      "source": [
        "Condição aninhada: Este programa em Python solicita a nota e a frequência do aluno em uma disciplina e determina se ele foi aprovado ou reprovado. Se a frequência for igual ou superior a 75% e a nota for igual ou superior a 60, o aluno é aprovado. Caso contrário, ele é reprovado, seja por nota ou por frequência."
      ],
      "metadata": {
        "id": "iMWQ8aL2QREA"
      }
    },
    {
      "cell_type": "code",
      "source": [
        "# Entrada de dados\n",
        "frequencia = int(input('Digite a frequencia do aluno: '))\n",
        "nota = float(input('Digite a nota do aluno: '))\n",
        "\n",
        "# Comparação e decisão\n",
        "if frequencia >= 75 and frequencia <= 100:\n",
        "    if nota >= 60 and nota <= 100:\n",
        "        print('APROVADO!')\n",
        "    else:\n",
        "        print('REPROVADO POR NOTA')\n",
        "else:\n",
        "    print('REPROVADO POR FREQUENCIA!')"
      ],
      "metadata": {
        "colab": {
          "base_uri": "https://localhost:8080/"
        },
        "id": "ZEBk3hcVQQgK",
        "outputId": "94214e3a-88cd-4ed3-fccf-f34d9cdbc64a"
      },
      "execution_count": null,
      "outputs": [
        {
          "output_type": "stream",
          "name": "stdout",
          "text": [
            "Digite a frequencia do aluno: 79\n",
            "Digite a nota do aluno: 58\n",
            "REPROVADO POR NOTA\n"
          ]
        }
      ]
    },
    {
      "cell_type": "code",
      "source": [
        "# Crie um algoritmo que leia a nota de um aluno e verifique se ele passou com média 7\n",
        "\n",
        "# Crie um algoritmo que leia 5 notas de um aluno e verifique se ele passou com média 7\n",
        "\n",
        "# Crie um algoritmo que leia 5 notas de 3 alunos e verifique se eles passaram com média 7\n",
        "\n",
        "# Crie um algoritmo que leia 5 notas de uma escola com 580 alunos e verifique se eles\n",
        "\n",
        "# passaram com média 7\n",
        "\n",
        "# Crie um algoritmo que leia 5 notas de uma universidade que possui 10 mil alunos"
      ],
      "metadata": {
        "id": "bhuJYdU2WAIR"
      },
      "execution_count": null,
      "outputs": []
    },
    {
      "cell_type": "markdown",
      "source": [
        "Limitações: As estruturas condicionais toma apenas uma decisão, a primeira que é verdadeira. Elas funcionam bem para coisas simples e se você não organizar o código direito, pode causar problemas."
      ],
      "metadata": {
        "id": "CEKn6FBeW1px"
      }
    }
  ]
}