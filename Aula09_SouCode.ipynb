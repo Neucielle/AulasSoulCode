{
  "nbformat": 4,
  "nbformat_minor": 0,
  "metadata": {
    "colab": {
      "provenance": [],
      "authorship_tag": "ABX9TyNGKVLgvj218i+pAEAy72g6",
      "include_colab_link": true
    },
    "kernelspec": {
      "name": "python3",
      "display_name": "Python 3"
    },
    "language_info": {
      "name": "python"
    }
  },
  "cells": [
    {
      "cell_type": "markdown",
      "metadata": {
        "id": "view-in-github",
        "colab_type": "text"
      },
      "source": [
        "<a href=\"https://colab.research.google.com/github/Neucielle/AulasSoulCode/blob/main/Aula09_SouCode.ipynb\" target=\"_parent\"><img src=\"https://colab.research.google.com/assets/colab-badge.svg\" alt=\"Open In Colab\"/></a>"
      ]
    },
    {
      "cell_type": "markdown",
      "source": [
        "## **Recapitulando**\n"
      ],
      "metadata": {
        "id": "1q2APTnpNOm4"
      }
    },
    {
      "cell_type": "code",
      "source": [
        "'''\n",
        "Crie um programa que receba do usuário cinco valores de notas (0 - 10)\n",
        "calcule a média e informe o usuário a média aritmética dos valores informados\n",
        "Método de resolução sem estruturas\n",
        "'''\n",
        "\n",
        "n1 = float(input('Informe a 1ª nota de 0 a 10: '))\n",
        "n2 = float(input('Informe a 2ª nota de 0 a 10: '))\n",
        "n3 = float(input('Informe a 3ª nota de 0 a 10: '))\n",
        "n4 = float(input('Informe a 4ª nota de 0 a 10: '))\n",
        "n5 = float(input('Informe a 5ª nota de 0 a 10: '))\n",
        "\n",
        "media = (n1+n2+n3+n4+n5)/5\n",
        "\n",
        "print(f'A média aritmética dos valores informados é {media:.2f}')"
      ],
      "metadata": {
        "id": "U6hKADbcNUg8"
      },
      "execution_count": null,
      "outputs": []
    },
    {
      "cell_type": "code",
      "source": [
        "# Cria a lista vazia que receberá as notas\n",
        "notas = []\n",
        "\n",
        "# Cria a variável contadora que deverá ser atualizada a cada novo input do usuários\n",
        "c = 0\n",
        "\n",
        "# cria a variável que o usuário informará a qtde de notas a ser inserida no sistema\n",
        "qtde = float(input('Informe a quantidade de notas que deseja inserir no sistema: '))\n",
        "while c < qtde: # cria a condição para o laço ser executado\n",
        "  notas.append(float(input(f'Informe a {c+1}ª nota: '))) # cria o input com cada nota e as insere na lista notas criada anteriormente\n",
        "  c += 1 # Atualiza a variável contadora a cada novo input\n",
        "\n",
        "  # Calcula a média aritmética das notas\n",
        "media = sum(notas)/len(notas)\n",
        "\n",
        "# Imprime a média\n",
        "print(f'A média aritmética dos valores informados é {media:.2f}')"
      ],
      "metadata": {
        "colab": {
          "base_uri": "https://localhost:8080/"
        },
        "id": "p91TiNZvQ26H",
        "outputId": "2b538a7f-81b1-4ac4-ed74-38bdd895199b"
      },
      "execution_count": null,
      "outputs": [
        {
          "output_type": "stream",
          "name": "stdout",
          "text": [
            "Informe a quantidade de notas que deseja inserir no sistema: 4\n",
            "Informe a 1ª nota: 9\n",
            "Informe a 2ª nota: 8\n",
            "Informe a 3ª nota: 7\n",
            "Informe a 4ª nota: 6\n",
            "A média aritmética dos valores informados é 7.50\n"
          ]
        }
      ]
    },
    {
      "cell_type": "markdown",
      "source": [
        "## **Estrutura de repetição: FOR**\n",
        "\n",
        "O loop for é uma estrutura de repetição que permite executar um bloco de código várias vezes. Ele é amplamente usado para percorrer elementos em sequências, como listas, tuplas e strings. O loop for é uma escolha natural quando você sabe quantas vezes deseja repetir uma ação."
      ],
      "metadata": {
        "id": "UpcPxeN0RLAr"
      }
    },
    {
      "cell_type": "code",
      "source": [
        "'''\n",
        "for variável in sequência:\n",
        "    bloco de codigo a ser repetido\n",
        "'''"
      ],
      "metadata": {
        "id": "Rt5i64K6RPI6"
      },
      "execution_count": null,
      "outputs": []
    },
    {
      "cell_type": "code",
      "source": [
        "# Exemplo comparativo: Imprima na tela os números de 0 a 9 com while e for"
      ],
      "metadata": {
        "id": "vlBu1rT8SKXT"
      },
      "execution_count": null,
      "outputs": []
    },
    {
      "cell_type": "code",
      "source": [
        "# Usando While\n",
        "i = 0\n",
        "while i < 10:\n",
        "    print(i)\n",
        "    i += 1"
      ],
      "metadata": {
        "colab": {
          "base_uri": "https://localhost:8080/"
        },
        "id": "WEd4tt4PSRmE",
        "outputId": "5aec522f-73a6-4b6f-b25e-3cc8d385287b"
      },
      "execution_count": null,
      "outputs": [
        {
          "output_type": "stream",
          "name": "stdout",
          "text": [
            "0\n",
            "1\n",
            "2\n",
            "3\n",
            "4\n",
            "5\n",
            "6\n",
            "7\n",
            "8\n",
            "9\n"
          ]
        }
      ]
    },
    {
      "cell_type": "code",
      "source": [
        "# A função range poderá ter até 3 argumentos (valores)\n",
        "# for i in range (inicio_do_contador, condição_de_parada, incremento ou decremento)\n",
        "# Range em ingles significa faixa\n",
        "\n",
        "# 1° Forma\n",
        "# utilizando o range com apenas um argumento - condição de parada com incremento 1 por padrão\n",
        "for i in range(10):\n",
        "    print(i)\n"
      ],
      "metadata": {
        "id": "x5ciQ3zrSsEy",
        "colab": {
          "base_uri": "https://localhost:8080/"
        },
        "outputId": "b42a84a2-c0d3-4dce-8fe2-18b71b69d29a"
      },
      "execution_count": null,
      "outputs": [
        {
          "output_type": "stream",
          "name": "stdout",
          "text": [
            "0\n",
            "1\n",
            "2\n",
            "3\n",
            "4\n",
            "5\n",
            "6\n",
            "7\n",
            "8\n",
            "9\n"
          ]
        }
      ]
    },
    {
      "cell_type": "code",
      "source": [
        "# 2° Forma - utilizando o range com apenas 2 argumentos - inicio da contagem e a condição de parada\n",
        "for i in range(0, 10):\n",
        "  print(i)"
      ],
      "metadata": {
        "colab": {
          "base_uri": "https://localhost:8080/"
        },
        "id": "Ugv5m_vZU0zW",
        "outputId": "3cf972ce-49c4-4b1a-9cbf-279a225dd739"
      },
      "execution_count": null,
      "outputs": [
        {
          "output_type": "stream",
          "name": "stdout",
          "text": [
            "0\n",
            "1\n",
            "2\n",
            "3\n",
            "4\n",
            "5\n",
            "6\n",
            "7\n",
            "8\n",
            "9\n"
          ]
        }
      ]
    },
    {
      "cell_type": "code",
      "source": [
        "# 3° Forma\n",
        "# utilizando o range com apenas 3 argumentos\n",
        "# inicio da contagem, condição de parada e incremento\n",
        "\n",
        "for i in range(0, 10, 1):\n",
        "  print(i)"
      ],
      "metadata": {
        "colab": {
          "base_uri": "https://localhost:8080/"
        },
        "id": "5KF4HgFUVW9-",
        "outputId": "8550a566-8760-46a5-c2b8-4888add46f93"
      },
      "execution_count": null,
      "outputs": [
        {
          "output_type": "stream",
          "name": "stdout",
          "text": [
            "0\n",
            "1\n",
            "2\n",
            "3\n",
            "4\n",
            "5\n",
            "6\n",
            "7\n",
            "8\n",
            "9\n"
          ]
        }
      ]
    },
    {
      "cell_type": "code",
      "source": [
        "# 4° forma: exemplo de iteração de string\n",
        "\n",
        "palavra = 'Python'\n",
        "for i in palavra:\n",
        "    print(i)"
      ],
      "metadata": {
        "colab": {
          "base_uri": "https://localhost:8080/"
        },
        "id": "IvylY9YnZBy8",
        "outputId": "a800f950-5845-4aca-d6f1-7f0db9dbd46c"
      },
      "execution_count": null,
      "outputs": [
        {
          "output_type": "stream",
          "name": "stdout",
          "text": [
            "P\n",
            "y\n",
            "t\n",
            "h\n",
            "o\n",
            "n\n"
          ]
        }
      ]
    },
    {
      "cell_type": "code",
      "source": [
        "# 5° forma: exemplo de iteração de tupla\n",
        "tupla = (10, 20, 30, 40, 50)\n",
        "for i in tupla:\n",
        "    print(i)"
      ],
      "metadata": {
        "colab": {
          "base_uri": "https://localhost:8080/"
        },
        "id": "Cu-dEuLFZrLz",
        "outputId": "ad1c0b74-263a-4531-c0dc-e7649a39f307"
      },
      "execution_count": null,
      "outputs": [
        {
          "output_type": "stream",
          "name": "stdout",
          "text": [
            "10\n",
            "20\n",
            "30\n",
            "40\n",
            "50\n"
          ]
        }
      ]
    },
    {
      "cell_type": "code",
      "source": [
        "# 6ª forma: Exemplo de iteração com listas\n",
        "alunos = ['Erika', 'Lidiane', 'Rosangela', 'Victor Gabriel']\n",
        "for aluno in alunos:\n",
        "    print(aluno)"
      ],
      "metadata": {
        "colab": {
          "base_uri": "https://localhost:8080/"
        },
        "id": "H7N32pscaTSX",
        "outputId": "57053747-464d-4e1f-affe-606006c451ce"
      },
      "execution_count": null,
      "outputs": [
        {
          "output_type": "stream",
          "name": "stdout",
          "text": [
            "Erika\n",
            "Lidiane\n",
            "Rosangela\n",
            "Victor Gabriel\n"
          ]
        }
      ]
    },
    {
      "cell_type": "code",
      "source": [
        "# 7ª forma: Exemplo de iteração com dicionarios\n",
        "\n",
        "frutas = {\n",
        "    'maçã': 3,\n",
        "    'banana' : 5,\n",
        "    'Laranja' : 10,\n",
        "    'Pera' : 2\n",
        "}\n",
        "\n",
        "for chave, valor in frutas.items():\n",
        "    print(f'{chave} : {valor}')\n"
      ],
      "metadata": {
        "colab": {
          "base_uri": "https://localhost:8080/"
        },
        "id": "NSn5Ma5taupb",
        "outputId": "e53bf143-818a-4740-c1b5-976a915f4aad"
      },
      "execution_count": null,
      "outputs": [
        {
          "output_type": "stream",
          "name": "stdout",
          "text": [
            "maçã : 3\n",
            "banana : 5\n",
            "Laranja : 10\n",
            "Pera : 2\n"
          ]
        }
      ]
    },
    {
      "cell_type": "code",
      "source": [
        "frutas = {\n",
        "    'maçã': 3,\n",
        "    'banana' : 5,\n",
        "    'Laranja' : 10,\n",
        "    'Pera' : 2\n",
        "}\n",
        "\n",
        "for chave, valor in frutas.items():\n",
        "    print(f'{chave} : {valor}')\n"
      ],
      "metadata": {
        "colab": {
          "base_uri": "https://localhost:8080/"
        },
        "id": "BfRQ7ozed7gd",
        "outputId": "208e9e03-2b41-4175-9ab8-f6d79f085793"
      },
      "execution_count": null,
      "outputs": [
        {
          "output_type": "stream",
          "name": "stdout",
          "text": [
            "maçã : 3\n",
            "banana : 5\n",
            "Laranja : 10\n",
            "Pera : 2\n"
          ]
        }
      ]
    },
    {
      "cell_type": "code",
      "source": [
        "# 8ª Forma: Calculando a soma dos numeros de 1 a 10:\n",
        "soma = 0\n",
        "for i in range(1, 11) :\n",
        "    soma += i\n",
        "print('A soma dos numeros de 1 a 10 é:', soma)"
      ],
      "metadata": {
        "colab": {
          "base_uri": "https://localhost:8080/"
        },
        "id": "Y7qEWNz5f2Ps",
        "outputId": "7efa76eb-8672-4727-87aa-16dad05eacce"
      },
      "execution_count": null,
      "outputs": [
        {
          "output_type": "stream",
          "name": "stdout",
          "text": [
            "A soma dos numeros de 1 a 10 é: 55\n"
          ]
        }
      ]
    },
    {
      "cell_type": "code",
      "source": [
        "'''\n",
        "Crie um programa que receba do usuário cinco valores de notas (0 - 10)\n",
        "calcule a média e informe o usuário a média aritmética dos valores informados\n",
        "Método de resolução por FOR\n",
        "'''\n",
        "\n",
        "# receber todas as notas emm um único input\n",
        "\n",
        "dados = input('Informe as notas separdas por espaço: ')\n",
        "\n",
        "# picotando os dados usando os espaos como separadores via split\n",
        "notas = dados.split()\n",
        "'''print(type(notas))\n",
        "print(notas)\n",
        "print(type(notas[0]))'''\n",
        "\n",
        "# Vamos fazer uma conversão de dados de str para float via for\n",
        "for cada_nota in range(len(notas)):\n",
        "    notas[cada_nota] = float(notas[cada_nota])\n",
        "\n",
        "    print(type(notas[0]))\n",
        "\n",
        "# Calcula a média das notas\n",
        "media = sum(notas)/len(notas)\n",
        "\n",
        "#imprime a média\n",
        "print(f' A média aritméticados valores informado é  {media:.2f}')"
      ],
      "metadata": {
        "colab": {
          "base_uri": "https://localhost:8080/"
        },
        "id": "vjZqZKtbh1Oy",
        "outputId": "65d47161-6c72-466d-a1ce-45dbd7b3781b"
      },
      "execution_count": null,
      "outputs": [
        {
          "output_type": "stream",
          "name": "stdout",
          "text": [
            "Informe as notas separdas por espaço7 8 9 9 6 \n",
            "<class 'float'>\n",
            "<class 'float'>\n",
            "<class 'float'>\n",
            "<class 'float'>\n",
            "<class 'float'>\n",
            " A média aritméticados valores informado é  7.80\n"
          ]
        }
      ]
    },
    {
      "cell_type": "markdown",
      "source": [
        "## **Funções**\n",
        "\n",
        "Funções são trechos de programa que recebem um determinado nome e podem ser chamadas várias vezes durante sua execução.\n",
        "\n",
        "Das vantagens:\n",
        "*  Reutilização de código\n",
        "*  Modularidade\n",
        "*  Facilidade de Manutenção do sistema"
      ],
      "metadata": {
        "id": "oUB8X44rwPN-"
      }
    },
    {
      "cell_type": "code",
      "source": [
        "# 1. função sem parametro e sem retorno\n",
        "def mensagem():\n",
        "    print('Olá pessoal')"
      ],
      "metadata": {
        "id": "zZ4atR-RpPcc"
      },
      "execution_count": null,
      "outputs": []
    },
    {
      "cell_type": "code",
      "source": [
        "mensagem()"
      ],
      "metadata": {
        "colab": {
          "base_uri": "https://localhost:8080/"
        },
        "id": "Bwbv3RFFxgvo",
        "outputId": "2e78eb09-2e74-4a33-cb64-1b58f527d1e4"
      },
      "execution_count": null,
      "outputs": [
        {
          "output_type": "stream",
          "name": "stdout",
          "text": [
            "Olá pessoal\n"
          ]
        }
      ]
    },
    {
      "cell_type": "code",
      "source": [
        "# 2. Função com passagem de parametro com calculo\n",
        "def somar(a, b):\n",
        "    print(a+b)\n"
      ],
      "metadata": {
        "id": "Or-uxgtJxjVm"
      },
      "execution_count": null,
      "outputs": []
    },
    {
      "cell_type": "code",
      "source": [
        "# chamando nossa função\n",
        "somar(1, 2)"
      ],
      "metadata": {
        "colab": {
          "base_uri": "https://localhost:8080/"
        },
        "id": "S8rmfjjax0U3",
        "outputId": "baf81aab-ef71-43e3-f9d0-c71e84628186"
      },
      "execution_count": null,
      "outputs": [
        {
          "output_type": "stream",
          "name": "stdout",
          "text": [
            "3\n"
          ]
        }
      ]
    },
    {
      "cell_type": "code",
      "source": [
        "somar(5, 7)"
      ],
      "metadata": {
        "colab": {
          "base_uri": "https://localhost:8080/"
        },
        "id": "5wheGw55yQ94",
        "outputId": "11a1bc5f-3c10-423e-a1a5-ba109b1e9f0b"
      },
      "execution_count": null,
      "outputs": [
        {
          "output_type": "stream",
          "name": "stdout",
          "text": [
            "12\n"
          ]
        }
      ]
    },
    {
      "cell_type": "code",
      "source": [
        "# Funçao com passagem de parametro e retorno (Recomendável)\n",
        "def somar(a, b):\n",
        "    return a + b"
      ],
      "metadata": {
        "id": "sLnfYZ2G1wTJ"
      },
      "execution_count": null,
      "outputs": []
    },
    {
      "cell_type": "code",
      "source": [
        "somar(7,8)"
      ],
      "metadata": {
        "colab": {
          "base_uri": "https://localhost:8080/"
        },
        "id": "Yqnehlpf2Ip0",
        "outputId": "a376b248-2822-4e82-c002-2638d7de860c"
      },
      "execution_count": null,
      "outputs": [
        {
          "output_type": "execute_result",
          "data": {
            "text/plain": [
              "15"
            ]
          },
          "metadata": {},
          "execution_count": 53
        }
      ]
    },
    {
      "cell_type": "code",
      "source": [
        "# Função comm calculos\n",
        "\n",
        "def formula_epg(m,h,g=10):\n",
        "    e = m * g *h\n",
        "    return e"
      ],
      "metadata": {
        "id": "egH09PCD2UpU"
      },
      "execution_count": null,
      "outputs": []
    },
    {
      "cell_type": "code",
      "source": [
        "# Chamando função\n",
        "formula_epg(30,12)"
      ],
      "metadata": {
        "colab": {
          "base_uri": "https://localhost:8080/"
        },
        "id": "vce7jYU725Sr",
        "outputId": "fb9b9241-ad78-40d8-fd3c-c22d7728e335"
      },
      "execution_count": null,
      "outputs": [
        {
          "output_type": "execute_result",
          "data": {
            "text/plain": [
              "3600"
            ]
          },
          "metadata": {},
          "execution_count": 48
        }
      ]
    },
    {
      "cell_type": "code",
      "source": [
        "# Função com calculos\n",
        "def formula_epg(m,h,g=10):\n",
        "    e = m*g*h\n",
        "    return e\n",
        "# Chamando função\n",
        "formula_epg(30,12)\n",
        "# Função com calculos\n",
        "def formula_epg(m,h,g=10):\n",
        "    '''\n",
        "    Calcula energia potencial gravitacional\n",
        "    argumentos ou parametros\n",
        "    m = massa, entrada como uma variável float\n",
        "    h = altura, entrada como uma variável float\n",
        "\n",
        "    Argumento opcional\n",
        "    g: aceleração gravitacional com valor padrão 10\n",
        "    '''\n",
        "    e = m*g*h\n",
        "    return e"
      ],
      "metadata": {
        "id": "5P0cCgoV3yN-"
      },
      "execution_count": null,
      "outputs": []
    },
    {
      "cell_type": "code",
      "source": [
        "formula_epg(30,12)"
      ],
      "metadata": {
        "colab": {
          "base_uri": "https://localhost:8080/"
        },
        "id": "SpzJWk__31zm",
        "outputId": "021d630e-6f57-4009-8e7d-45ed22be4f77"
      },
      "execution_count": null,
      "outputs": [
        {
          "output_type": "execute_result",
          "data": {
            "text/plain": [
              "3600"
            ]
          },
          "metadata": {},
          "execution_count": 50
        }
      ]
    }
  ]
}